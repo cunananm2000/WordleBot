{
 "cells": [
  {
   "cell_type": "code",
   "execution_count": 1,
   "id": "6a10fefb",
   "metadata": {},
   "outputs": [],
   "source": [
    "import numpy as np\n",
    "import pandas as pd\n",
    "from matplotlib import pyplot as plt\n",
    "\n",
    "from tqdm.auto import tqdm\n",
    "import json"
   ]
  },
  {
   "cell_type": "code",
   "execution_count": 47,
   "id": "37bf8ef5",
   "metadata": {},
   "outputs": [],
   "source": [
    "def check(guess,answer):\n",
    "    t = 0\n",
    "    hit = 0\n",
    "    for i in range(5): \n",
    "        t |= (guess[i]==answer[i])<<(9-2*i)\n",
    "        hit |= (guess[i]==answer[i])<<(4-i)\n",
    "#     print(int2base(t,4))\n",
    "#     print(int2base(hit,2))\n",
    "    for i in range(5):\n",
    "#         print(i,int2base(t,4),int2base(hit,2),int2base(1<<(4-i),2))\n",
    "        if ~t&(1<<(9-2*i)):\n",
    "#             print(f\"{i} no match yet\")\n",
    "            \n",
    "            for j in range(5):\n",
    "                if ~hit&(1<<(4-j)) and guess[i]==answer[j]:\n",
    "                    hit |= 1<<(4-j)\n",
    "                    t |= 1<<(8-2*i)\n",
    "                    break\n",
    "    return t, hit"
   ]
  },
  {
   "cell_type": "code",
   "execution_count": 48,
   "id": "624cfb99",
   "metadata": {},
   "outputs": [],
   "source": [
    "# int2base(check('aahed','ahead')[0],4)"
   ]
  },
  {
   "cell_type": "code",
   "execution_count": 49,
   "id": "ac707bed",
   "metadata": {},
   "outputs": [],
   "source": [
    "import string\n",
    "digs = string.digits + string.ascii_letters\n",
    "\n",
    "\n",
    "def int2base(x, base):\n",
    "    if x < 0:\n",
    "        sign = -1\n",
    "    elif x == 0:\n",
    "        return digs[0].rjust(5,'0')\n",
    "    else:\n",
    "        sign = 1\n",
    "\n",
    "    x *= sign\n",
    "    digits = []\n",
    "\n",
    "    while x:\n",
    "        digits.append(digs[int(x % base)])\n",
    "        x = int(x / base)\n",
    "\n",
    "    if sign < 0:\n",
    "        digits.append('-')\n",
    "\n",
    "    digits.reverse()\n",
    "\n",
    "    return ''.join(digits).rjust(5,'0')"
   ]
  },
  {
   "cell_type": "code",
   "execution_count": 7,
   "id": "94c71e22",
   "metadata": {},
   "outputs": [],
   "source": [
    "# t, hit = check(\"serai\",\"serai\")\n",
    "# print(t)\n",
    "# print(int2base(0,4))\n",
    "# print(int2base(hit,2))"
   ]
  },
  {
   "cell_type": "code",
   "execution_count": 154,
   "id": "50939639",
   "metadata": {},
   "outputs": [
    {
     "name": "stdout",
     "output_type": "stream",
     "text": [
      "2309\n",
      "10638\n",
      "12947\n"
     ]
    }
   ],
   "source": [
    "from wordLists import answers, guesses\n",
    "fullList = answers + guesses\n",
    "print(len(answers))\n",
    "print(len(guesses))\n",
    "print(len(fullList))"
   ]
  },
  {
   "cell_type": "code",
   "execution_count": 45,
   "id": "375662d4",
   "metadata": {},
   "outputs": [],
   "source": [
    "from commonWordList import fullList as commonWords"
   ]
  },
  {
   "cell_type": "code",
   "execution_count": 153,
   "id": "62bb0e1d",
   "metadata": {},
   "outputs": [
    {
     "data": {
      "application/vnd.jupyter.widget-view+json": {
       "model_id": "7397d1e9fb14492fbe7d32a4e98164e3",
       "version_major": 2,
       "version_minor": 0
      },
      "text/plain": [
       "  0%|          | 0/2309 [00:00<?, ?it/s]"
      ]
     },
     "metadata": {},
     "output_type": "display_data"
    }
   ],
   "source": [
    "# with open('distMatrix.txt','w') as f:\n",
    "#     f.write(','.join(fullList + ['Answer'])+'\\n')\n",
    "#     for a in tqdm(answers):\n",
    "#         f.write(','.join([int2base(check(g,a)[0],4) for g in fullList]+[a])+'\\n')"
   ]
  },
  {
   "cell_type": "code",
   "execution_count": 174,
   "id": "113d7faa",
   "metadata": {},
   "outputs": [
    {
     "data": {
      "application/vnd.jupyter.widget-view+json": {
       "model_id": "c9f4c1b3fe744d9d9f972779242895ca",
       "version_major": 2,
       "version_minor": 0
      },
      "text/plain": [
       "  0%|          | 0/12947 [00:00<?, ?it/s]"
      ]
     },
     "metadata": {},
     "output_type": "display_data"
    }
   ],
   "source": [
    "# with open('fullDistMatrix.txt','w') as f:\n",
    "#     f.write(','.join(fullList + ['Answer'])+'\\n')\n",
    "#     for a in tqdm(fullList):\n",
    "#         f.write(','.join([int2base(check(g,a)[0],4) for g in fullList]+[a])+'\\n')"
   ]
  },
  {
   "cell_type": "code",
   "execution_count": 106,
   "id": "7dc7a899",
   "metadata": {},
   "outputs": [
    {
     "data": {
      "application/vnd.jupyter.widget-view+json": {
       "model_id": "7f10d9e4fa4941008c83d79b4ff0be5c",
       "version_major": 2,
       "version_minor": 0
      },
      "text/plain": [
       "  0%|          | 0/2309 [00:00<?, ?it/s]"
      ]
     },
     "metadata": {},
     "output_type": "display_data"
    }
   ],
   "source": [
    "# with open('smallDistMatrix.txt','w') as f:\n",
    "#     f.write(','.join(answers + ['Answer'])+'\\n')\n",
    "#     for a in tqdm(answers):\n",
    "#         f.write(','.join([int2base(check(g,a)[0],4) for g in answers]+[a])+'\\n')"
   ]
  },
  {
   "cell_type": "code",
   "execution_count": 7,
   "id": "fcffe7b0",
   "metadata": {},
   "outputs": [
    {
     "data": {
      "application/vnd.jupyter.widget-view+json": {
       "model_id": "1bdea54dd6524504af49955a0a91dad4",
       "version_major": 2,
       "version_minor": 0
      },
      "text/plain": [
       "  0%|          | 0/5757 [00:00<?, ?it/s]"
      ]
     },
     "metadata": {},
     "output_type": "display_data"
    }
   ],
   "source": [
    "# with open('commonDistMatrix.txt','w') as f:\n",
    "#     f.write(','.join(commonWords + ['Answer'])+'\\n')\n",
    "#     for a in tqdm(commonWords):\n",
    "#         f.write(','.join([int2base(check(g,a)[0],4) for g in commonWords]+[a])+'\\n')"
   ]
  },
  {
   "cell_type": "code",
   "execution_count": 2,
   "id": "9da68169",
   "metadata": {
    "scrolled": true
   },
   "outputs": [
    {
     "name": "stdout",
     "output_type": "stream",
     "text": [
      "tares\n",
      "Result:02011\n",
      "slush\n",
      "Result:01020\n",
      "delve\n",
      "Result:00102\n",
      "lapse=(1/1)\n"
     ]
    }
   ],
   "source": [
    "with open('bestTree.txt') as f:\n",
    "    tree = json.load(f)\n",
    "    while True:\n",
    "        if 'label to split on' in tree:\n",
    "            print(tree['label to split on'])\n",
    "            res = input(\"Result:\" )\n",
    "            if res not in tree['splits']:\n",
    "                print(\"Options were\",list(tree['splits'].keys()))\n",
    "                assert(False)\n",
    "            tree = tree['splits'][res]\n",
    "        else:\n",
    "            print(tree['leaf value'])\n",
    "            break\n",
    "\n",
    "# tree['splits']['00101']['splits']['00200']"
   ]
  },
  {
   "cell_type": "code",
   "execution_count": 42,
   "id": "7351d1a5",
   "metadata": {},
   "outputs": [
    {
     "ename": "NameError",
     "evalue": "name 'treeDepth' is not defined",
     "output_type": "error",
     "traceback": [
      "\u001b[1;31m---------------------------------------------------------------------------\u001b[0m",
      "\u001b[1;31mNameError\u001b[0m                                 Traceback (most recent call last)",
      "\u001b[1;32m<ipython-input-42-6a707727c48c>\u001b[0m in \u001b[0;36m<module>\u001b[1;34m\u001b[0m\n\u001b[0;32m      1\u001b[0m \u001b[1;32mwith\u001b[0m \u001b[0mopen\u001b[0m\u001b[1;33m(\u001b[0m\u001b[1;34m'bestTree.txt'\u001b[0m\u001b[1;33m)\u001b[0m \u001b[1;32mas\u001b[0m \u001b[0mf\u001b[0m\u001b[1;33m:\u001b[0m\u001b[1;33m\u001b[0m\u001b[1;33m\u001b[0m\u001b[0m\n\u001b[0;32m      2\u001b[0m     \u001b[0mtree\u001b[0m \u001b[1;33m=\u001b[0m \u001b[0mjson\u001b[0m\u001b[1;33m.\u001b[0m\u001b[0mload\u001b[0m\u001b[1;33m(\u001b[0m\u001b[0mf\u001b[0m\u001b[1;33m)\u001b[0m\u001b[1;33m\u001b[0m\u001b[1;33m\u001b[0m\u001b[0m\n\u001b[1;32m----> 3\u001b[1;33m     \u001b[0mprint\u001b[0m\u001b[1;33m(\u001b[0m\u001b[0mtreeDepth\u001b[0m\u001b[1;33m(\u001b[0m\u001b[0mtree\u001b[0m\u001b[1;33m)\u001b[0m\u001b[1;33m)\u001b[0m\u001b[1;33m\u001b[0m\u001b[1;33m\u001b[0m\u001b[0m\n\u001b[0m",
      "\u001b[1;31mNameError\u001b[0m: name 'treeDepth' is not defined"
     ]
    }
   ],
   "source": [
    "with open('bestTree.txt') as f:\n",
    "    tree = json.load(f)\n",
    "    print(treeDepth(tree))"
   ]
  },
  {
   "cell_type": "code",
   "execution_count": 50,
   "id": "73b7023a",
   "metadata": {},
   "outputs": [],
   "source": [
    "q = [(tree,1)]\n",
    "df = pd.DataFrame()\n",
    "while len(q) != 0:\n",
    "    c,d = q.pop(0)\n",
    "    if 'leaf value' in c:\n",
    "        name =  c['leaf value'][:5]\n",
    "        if name in commonWords:\n",
    "            df = df.append({\n",
    "                'answer': name,\n",
    "                'score':int(d)\n",
    "            }, ignore_index = True)\n",
    "    else:\n",
    "#         print(c.keys())\n",
    "        for res, t in c['splits'].items():\n",
    "            q.append((t, d + 1))"
   ]
  },
  {
   "cell_type": "code",
   "execution_count": 51,
   "id": "10ea27b3",
   "metadata": {},
   "outputs": [
    {
     "data": {
      "text/html": [
       "<div>\n",
       "<style scoped>\n",
       "    .dataframe tbody tr th:only-of-type {\n",
       "        vertical-align: middle;\n",
       "    }\n",
       "\n",
       "    .dataframe tbody tr th {\n",
       "        vertical-align: top;\n",
       "    }\n",
       "\n",
       "    .dataframe thead th {\n",
       "        text-align: right;\n",
       "    }\n",
       "</style>\n",
       "<table border=\"1\" class=\"dataframe\">\n",
       "  <thead>\n",
       "    <tr style=\"text-align: right;\">\n",
       "      <th></th>\n",
       "      <th>answer</th>\n",
       "      <th>score</th>\n",
       "    </tr>\n",
       "  </thead>\n",
       "  <tbody>\n",
       "    <tr>\n",
       "      <th>5597</th>\n",
       "      <td>vines</td>\n",
       "      <td>7.0</td>\n",
       "    </tr>\n",
       "    <tr>\n",
       "      <th>5586</th>\n",
       "      <td>fakes</td>\n",
       "      <td>7.0</td>\n",
       "    </tr>\n",
       "    <tr>\n",
       "      <th>5575</th>\n",
       "      <td>jacks</td>\n",
       "      <td>7.0</td>\n",
       "    </tr>\n",
       "    <tr>\n",
       "      <th>5576</th>\n",
       "      <td>ferry</td>\n",
       "      <td>7.0</td>\n",
       "    </tr>\n",
       "    <tr>\n",
       "      <th>5577</th>\n",
       "      <td>jerry</td>\n",
       "      <td>7.0</td>\n",
       "    </tr>\n",
       "    <tr>\n",
       "      <th>...</th>\n",
       "      <td>...</td>\n",
       "      <td>...</td>\n",
       "    </tr>\n",
       "    <tr>\n",
       "      <th>1</th>\n",
       "      <td>antes</td>\n",
       "      <td>2.0</td>\n",
       "    </tr>\n",
       "    <tr>\n",
       "      <th>6</th>\n",
       "      <td>tared</td>\n",
       "      <td>2.0</td>\n",
       "    </tr>\n",
       "    <tr>\n",
       "      <th>7</th>\n",
       "      <td>tares</td>\n",
       "      <td>2.0</td>\n",
       "    </tr>\n",
       "    <tr>\n",
       "      <th>8</th>\n",
       "      <td>tears</td>\n",
       "      <td>2.0</td>\n",
       "    </tr>\n",
       "    <tr>\n",
       "      <th>0</th>\n",
       "      <td>trash</td>\n",
       "      <td>2.0</td>\n",
       "    </tr>\n",
       "  </tbody>\n",
       "</table>\n",
       "<p>5598 rows × 2 columns</p>\n",
       "</div>"
      ],
      "text/plain": [
       "     answer  score\n",
       "5597  vines    7.0\n",
       "5586  fakes    7.0\n",
       "5575  jacks    7.0\n",
       "5576  ferry    7.0\n",
       "5577  jerry    7.0\n",
       "...     ...    ...\n",
       "1     antes    2.0\n",
       "6     tared    2.0\n",
       "7     tares    2.0\n",
       "8     tears    2.0\n",
       "0     trash    2.0\n",
       "\n",
       "[5598 rows x 2 columns]"
      ]
     },
     "execution_count": 51,
     "metadata": {},
     "output_type": "execute_result"
    }
   ],
   "source": [
    "df.sort_values(by = 'score', ascending = False)"
   ]
  },
  {
   "cell_type": "code",
   "execution_count": 52,
   "id": "c0c221dc",
   "metadata": {},
   "outputs": [
    {
     "data": {
      "text/plain": [
       "count    5598.000000\n",
       "mean        4.254377\n",
       "std         0.757049\n",
       "min         2.000000\n",
       "25%         4.000000\n",
       "50%         4.000000\n",
       "75%         5.000000\n",
       "max         7.000000\n",
       "Name: score, dtype: float64"
      ]
     },
     "execution_count": 52,
     "metadata": {},
     "output_type": "execute_result"
    }
   ],
   "source": [
    "df['score'].describe()"
   ]
  },
  {
   "cell_type": "code",
   "execution_count": null,
   "id": "d41e2e7c",
   "metadata": {},
   "outputs": [],
   "source": []
  }
 ],
 "metadata": {
  "kernelspec": {
   "display_name": "Python 3",
   "language": "python",
   "name": "python3"
  },
  "language_info": {
   "codemirror_mode": {
    "name": "ipython",
    "version": 3
   },
   "file_extension": ".py",
   "mimetype": "text/x-python",
   "name": "python",
   "nbconvert_exporter": "python",
   "pygments_lexer": "ipython3",
   "version": "3.8.8"
  }
 },
 "nbformat": 4,
 "nbformat_minor": 5
}
