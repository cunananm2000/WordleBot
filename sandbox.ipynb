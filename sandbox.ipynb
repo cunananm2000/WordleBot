{
 "cells": [
  {
   "cell_type": "code",
   "execution_count": 1,
   "id": "14fda33b",
   "metadata": {},
   "outputs": [
    {
     "name": "stderr",
     "output_type": "stream",
     "text": [
      "c:\\Users\\Michael\\AppData\\Local\\Programs\\Python\\Python310\\lib\\site-packages\\tqdm\\auto.py:22: TqdmWarning: IProgress not found. Please update jupyter and ipywidgets. See https://ipywidgets.readthedocs.io/en/stable/user_install.html\n",
      "  from .autonotebook import tqdm as notebook_tqdm\n"
     ]
    }
   ],
   "source": [
    "from utils import *\n",
    "from originalWordLists import guesses, answers\n",
    "from tqdm.auto import tqdm\n",
    "from valuations import *\n",
    "import numpy as np"
   ]
  },
  {
   "cell_type": "code",
   "execution_count": 2,
   "id": "06ac6f8e",
   "metadata": {},
   "outputs": [],
   "source": [
    "G = sorted(guesses + answers)\n",
    "S = sorted(answers)"
   ]
  },
  {
   "cell_type": "code",
   "execution_count": 3,
   "id": "d583fea5",
   "metadata": {},
   "outputs": [
    {
     "data": {
      "text/plain": [
       "12972"
      ]
     },
     "execution_count": 3,
     "metadata": {},
     "output_type": "execute_result"
    }
   ],
   "source": [
    "len(G)"
   ]
  },
  {
   "cell_type": "code",
   "execution_count": 26,
   "id": "9bd5a639",
   "metadata": {},
   "outputs": [
    {
     "ename": "NameError",
     "evalue": "name 'sortWords' is not defined",
     "output_type": "error",
     "traceback": [
      "\u001b[1;31m---------------------------------------------------------------------------\u001b[0m",
      "\u001b[1;31mNameError\u001b[0m                                 Traceback (most recent call last)",
      "\u001b[1;32mc:\\Users\\Michael\\Desktop\\WordleBot\\sandbox.ipynb Cell 4'\u001b[0m in \u001b[0;36m<cell line: 5>\u001b[1;34m()\u001b[0m\n\u001b[0;32m      <a href='vscode-notebook-cell:/c%3A/Users/Michael/Desktop/WordleBot/sandbox.ipynb#ch0000003?line=2'>3</a>\u001b[0m pG \u001b[39m=\u001b[39m filterPossible(\u001b[39m'\u001b[39m\u001b[39msalet\u001b[39m\u001b[39m'\u001b[39m, check(\u001b[39m'\u001b[39m\u001b[39msalet\u001b[39m\u001b[39m'\u001b[39m,\u001b[39m'\u001b[39m\u001b[39mwound\u001b[39m\u001b[39m'\u001b[39m) , pG)\n\u001b[0;32m      <a href='vscode-notebook-cell:/c%3A/Users/Michael/Desktop/WordleBot/sandbox.ipynb#ch0000003?line=3'>4</a>\u001b[0m pS \u001b[39m=\u001b[39m filterPossible(\u001b[39m'\u001b[39m\u001b[39msalet\u001b[39m\u001b[39m'\u001b[39m, check(\u001b[39m'\u001b[39m\u001b[39msalet\u001b[39m\u001b[39m'\u001b[39m,\u001b[39m'\u001b[39m\u001b[39mwound\u001b[39m\u001b[39m'\u001b[39m) , pS)\n\u001b[1;32m----> <a href='vscode-notebook-cell:/c%3A/Users/Michael/Desktop/WordleBot/sandbox.ipynb#ch0000003?line=4'>5</a>\u001b[0m sortWords(pG, pS, [mostParts, firstValid, information], n\u001b[39m=\u001b[39m\u001b[39m5\u001b[39m)\n",
      "\u001b[1;31mNameError\u001b[0m: name 'sortWords' is not defined"
     ]
    }
   ],
   "source": [
    "pG = list(G)\n",
    "pS = list(S)\n",
    "pG = filterPossible('salet', check('salet','wound') , pG)\n",
    "pS = filterPossible('salet', check('salet','wound') , pS)\n",
    "sortWords(pG, pS, [mostParts, firstValid, information], n=5)"
   ]
  },
  {
   "cell_type": "code",
   "execution_count": null,
   "id": "1a81225f",
   "metadata": {},
   "outputs": [],
   "source": [
    "# def f(A, first = False):\n",
    "#     if len(A) == 1: return 1\n",
    "#     if len(A) == 2: return 1.5\n",
    "#     bestScore = 10000\n",
    "#     for g in tqdm(sorted(G, key = lambda x: (x not in A, maxSizeSplit(x,A)))[:20], disable = not first):\n",
    "#         t = 1\n",
    "#         splits = getSplits(g, A, useWords = True)\n",
    "#         if len(splits) == 1: continue\n",
    "#         for res,split in splits.items():\n",
    "#             t += len(split)/len(A) * f(split)\n",
    "#         bestScore = min(bestScore, t)\n",
    "#         if len(A) >= 7:\n",
    "#             print(A,g,'-->',t)\n",
    "#         if len(A) == 3 and (g in A and abs(t - 5/3) < 0.01):\n",
    "# #             print(\"***exited early***\")\n",
    "#             return t\n",
    "#         if len(A) == 4 and (g in A and abs(t - (1+2*3)/4) < 0.01):\n",
    "#             print(\"***exited early***\")\n",
    "#             return t\n",
    "#         if (g not in A) and abs(t - 2) < 0.01:\n",
    "#             if len(A) >= 7: print(\"***exited early***\")\n",
    "#             return t\n",
    "#     return bestScore"
   ]
  },
  {
   "cell_type": "code",
   "execution_count": null,
   "id": "5c081771",
   "metadata": {},
   "outputs": [],
   "source": [
    "# f(C, first = True)\n",
    "# f(['rover', 'rower', 'wooer'], first = True)"
   ]
  },
  {
   "cell_type": "code",
   "execution_count": null,
   "id": "e705d201",
   "metadata": {},
   "outputs": [],
   "source": [
    "for k,v in sorted(getSplits('trace',S).items(), key = lambda x: x[1]):\n",
    "    print(k,v)"
   ]
  },
  {
   "cell_type": "code",
   "execution_count": null,
   "id": "0a0d1c0a",
   "metadata": {},
   "outputs": [],
   "source": [
    "import json"
   ]
  },
  {
   "cell_type": "code",
   "execution_count": null,
   "id": "18f593af",
   "metadata": {},
   "outputs": [],
   "source": [
    "tree = json.load(open('combinedVals/mostParts,firstValid,maxSizeSplit,information1.json'))\n",
    "# tree = tree['splits']['00100']\n",
    "# tree = tree['splits']['00020']\n",
    "# tree = tree['splits']['02000'] a\n",
    "tree"
   ]
  },
  {
   "cell_type": "code",
   "execution_count": null,
   "id": "9593519c",
   "metadata": {},
   "outputs": [],
   "source": [
    "def g(T, words):\n",
    "#     r = [1]\n",
    "#     if 'splits' in T:\n",
    "#         for k in T['splits']:\n",
    "#             r += [1 + x for x in g(T['splits'][k])]\n",
    "#     return r\n",
    "    r = []\n",
    "    for w in words:\n",
    "        s = 1\n",
    "        curr = T\n",
    "        res = check(curr['guess'],w)\n",
    "        while res != '22222':\n",
    "            s += 1\n",
    "            curr = curr['splits'][res]\n",
    "            res = check(curr['guess'],w)\n",
    "            \n",
    "        r.append(s)\n",
    "#         print(w,s)\n",
    "    return r\n",
    "            \n",
    "        "
   ]
  },
  {
   "cell_type": "code",
   "execution_count": null,
   "id": "b7c8cfd9",
   "metadata": {},
   "outputs": [],
   "source": [
    "np.mean(g(tree,C)), len(g(tree,C)), max(g(tree,C))"
   ]
  },
  {
   "cell_type": "code",
   "execution_count": null,
   "id": "f9ed25be",
   "metadata": {},
   "outputs": [],
   "source": [
    "g(tree,C), tree\n",
    "# ['boxer', 'homer', 'hover', 'joker', 'mover', 'roger', 'rover']\n",
    "# ['berry',\n",
    "#  'demur',\n",
    "#  'derby',\n",
    "#  'every',\n",
    "#  'femur',\n",
    "#  'ferry',\n",
    "#  'jerky',\n",
    "#  'leery',\n",
    "#  'lemur',\n",
    "#  'merry',\n",
    "#  'query',\n",
    "#  'reedy']"
   ]
  },
  {
   "cell_type": "code",
   "execution_count": null,
   "id": "6cddfa28",
   "metadata": {},
   "outputs": [],
   "source": [
    "%%time\n",
    "get('tares', S)"
   ]
  },
  {
   "cell_type": "code",
   "execution_count": null,
   "id": "ce5b1750",
   "metadata": {},
   "outputs": [],
   "source": [
    "from strategyTree import TreeGenerator"
   ]
  },
  {
   "cell_type": "code",
   "execution_count": null,
   "id": "d78b7665",
   "metadata": {},
   "outputs": [],
   "source": [
    "x = g(t)\n",
    "np.mean(x), max(x)"
   ]
  },
  {
   "cell_type": "code",
   "execution_count": null,
   "id": "75d6c333",
   "metadata": {},
   "outputs": [],
   "source": [
    "from itertools import permutations"
   ]
  },
  {
   "cell_type": "code",
   "execution_count": null,
   "id": "24522bde",
   "metadata": {},
   "outputs": [],
   "source": [
    "allVals = [firstValid, maxSizeSplit, mostParts, information]\n",
    "fns = sum([\n",
    "    list(permutations(allVals, i)) for i in range(1,len(allVals)+1)\n",
    "], [])\n",
    "ans = []\n",
    "for f in fns:\n",
    "    t = TreeGenerator(vs = f)\n",
    "    x = g(t.genStrategyTree(1, C))\n",
    "    ans.append((t.stratName,np.mean(x), max(x)))"
   ]
  },
  {
   "cell_type": "code",
   "execution_count": null,
   "id": "0ef3ef0d",
   "metadata": {},
   "outputs": [],
   "source": [
    "ans"
   ]
  },
  {
   "cell_type": "code",
   "execution_count": null,
   "id": "fc31d699",
   "metadata": {},
   "outputs": [],
   "source": [
    "ans.sort(key = lambda x: list(x)[1:])"
   ]
  },
  {
   "cell_type": "code",
   "execution_count": null,
   "id": "414da51f",
   "metadata": {},
   "outputs": [],
   "source": [
    "ans"
   ]
  },
  {
   "cell_type": "code",
   "execution_count": null,
   "id": "0f5799f6",
   "metadata": {},
   "outputs": [],
   "source": [
    "class Solver(object):\n",
    "    def __init__(self, words):\n",
    "        self.words = words\n",
    "        self.memo = {}\n",
    "        self.best = {}\n",
    "    \n",
    "    def encode(self, sub):\n",
    "        t = 0\n",
    "        for w in sub:\n",
    "            t |= 1 << (len(self.words) - self.words.index(w) - 1)\n",
    "        return t\n",
    "    \n",
    "    def solve(self):\n",
    "        self.h(self.words)\n",
    "        return self.memo[self.encode(self.words)]\n",
    "        \n",
    "    def h(self, sub, depth = 0):\n",
    "        c = self.encode(sub)\n",
    "        if c in self.memo: \n",
    "            return self.memo[c]\n",
    "        \n",
    "        ans = 1\n",
    "        if len(sub) == 1:\n",
    "            self.best[c] = sub[0]\n",
    "            ans = 1\n",
    "        elif len(sub) == 2:\n",
    "            self.best[c] = sub[0]\n",
    "            ans = 1.5\n",
    "        else:\n",
    "            bestScore = -1\n",
    "            bestGuess = \"\"\n",
    "            for g in tqdm(G, disable = depth >= 2):\n",
    "                t = 1\n",
    "                splits = getSplits(g, sub, useWords = True)\n",
    "                if len(splits) == 1: continue\n",
    "                for res, split in splits.items():\n",
    "                    if res == '22222': continue\n",
    "                    t += len(split)/len(sub) * (self.h(split, depth + 1))\n",
    "#                     if first:\n",
    "#                         print(split, t, self.h(split))\n",
    "                \n",
    "                if bestScore == -1 or t < bestScore:\n",
    "                    bestScore = t\n",
    "                    bestGuess = g\n",
    "                    \n",
    "#                 print(g,'final ',t, bestScore, getSplits(g, sub, useWords = True))\n",
    "                \n",
    "            ans = bestScore\n",
    "            self.best[c] = bestGuess\n",
    "        self.memo[c] = ans \n",
    "        return ans\n",
    "    \n",
    "    def genTree(self, sub = None):\n",
    "        if sub is None:\n",
    "            sub = self.words\n",
    "#         print(self.memo[self.encode(sub)])\n",
    "        guess = self.best[(self.encode(sub))]\n",
    "        tree = {\n",
    "            'guess': guess\n",
    "        }\n",
    "        if len(sub) != 1:\n",
    "            tree['splits'] = {}\n",
    "            splits = getSplits(guess, sub, useWords = True)\n",
    "            for res, split in splits.items():\n",
    "                if res == '22222': continue\n",
    "                tree['splits'][res] = self.genTree(split)\n",
    "        \n",
    "        return tree\n",
    "        "
   ]
  },
  {
   "cell_type": "code",
   "execution_count": null,
   "id": "a1c7212b",
   "metadata": {
    "scrolled": true
   },
   "outputs": [],
   "source": [
    "s = Solver(words = C)\n",
    "# s = Solver(words = ['boxer', 'homer', 'hover', 'joker', 'mover', 'roger', 'rover'])\n",
    "# s = Solver(words = ['other','blood','tares'])\n",
    "# bin(s.encode(s.words))\n",
    "s.solve()"
   ]
  },
  {
   "cell_type": "code",
   "execution_count": null,
   "id": "cf4df6ce",
   "metadata": {},
   "outputs": [],
   "source": [
    "for k,v in s.best.items():\n",
    "    print(bin(k),'-->',v, s.memo[k])"
   ]
  },
  {
   "cell_type": "code",
   "execution_count": null,
   "id": "ae665ff9",
   "metadata": {},
   "outputs": [],
   "source": [
    "for k,v in getSplits('defer',['berry',\n",
    " 'demur',\n",
    " 'derby',\n",
    " 'every',\n",
    " 'femur',\n",
    " 'ferry',\n",
    " 'jerky',\n",
    " 'leery',\n",
    " 'lemur',\n",
    " 'merry',\n",
    " 'query',\n",
    " 'reedy'],useWords=True).items():\n",
    "    print(k,v,bin(s.encode(v)))"
   ]
  },
  {
   "cell_type": "code",
   "execution_count": null,
   "id": "45466612",
   "metadata": {},
   "outputs": [],
   "source": [
    "(9*2 + 3*3)/12"
   ]
  },
  {
   "cell_type": "code",
   "execution_count": null,
   "id": "390b092a",
   "metadata": {},
   "outputs": [],
   "source": [
    "(10*2 + 2*3)/12"
   ]
  },
  {
   "cell_type": "code",
   "execution_count": null,
   "id": "881a1bc1",
   "metadata": {
    "scrolled": true
   },
   "outputs": [],
   "source": [
    "for k,v in getSplits('other',['other','blood','tares'],useWords=True).items():\n",
    "    print(k,v,bin(s.encode(v)))"
   ]
  },
  {
   "cell_type": "code",
   "execution_count": null,
   "id": "4a96c206",
   "metadata": {},
   "outputs": [],
   "source": [
    "(1 + 7 *2 + 4 * 3)/12"
   ]
  },
  {
   "cell_type": "code",
   "execution_count": null,
   "id": "d2c0a73d",
   "metadata": {},
   "outputs": [],
   "source": [
    "s.genTree()"
   ]
  },
  {
   "cell_type": "code",
   "execution_count": null,
   "id": "9dc0c0b6",
   "metadata": {},
   "outputs": [],
   "source": [
    "len(s.memo), 2**len(s.words) - 1"
   ]
  },
  {
   "cell_type": "code",
   "execution_count": null,
   "id": "86c65080",
   "metadata": {},
   "outputs": [],
   "source": [
    "tree"
   ]
  },
  {
   "cell_type": "code",
   "execution_count": 9,
   "id": "68e0965b",
   "metadata": {},
   "outputs": [],
   "source": [
    "import originalWordLists\n",
    "from utils import check\n",
    "import json"
   ]
  },
  {
   "cell_type": "code",
   "execution_count": 10,
   "id": "55327daf",
   "metadata": {},
   "outputs": [],
   "source": [
    "with open('originalBestTreeHardMode.json','r') as f:\n",
    "    tree = json.load(f)"
   ]
  },
  {
   "cell_type": "code",
   "execution_count": 11,
   "id": "580e6e00",
   "metadata": {},
   "outputs": [],
   "source": [
    "with open('originalBestTreeHardModeList.txt','w') as g:\n",
    "    for s in originalWordLists.answers:\n",
    "        ans = []\n",
    "        curr = tree\n",
    "        while 1:\n",
    "            ans.append(curr['guess'])\n",
    "            if curr['guess'] == s: break\n",
    "            res = check(curr['guess'], s)\n",
    "            curr = curr['splits'][res]\n",
    "        g.write(','.join(ans) + '\\n')"
   ]
  },
  {
   "cell_type": "code",
   "execution_count": null,
   "id": "65b70379",
   "metadata": {},
   "outputs": [],
   "source": [
    "from BruteForceSolver import Solver"
   ]
  },
  {
   "cell_type": "code",
   "execution_count": null,
   "id": "32be67c2",
   "metadata": {},
   "outputs": [],
   "source": [
    "s = Solver(words = C)\n",
    "s.h(sub=C, depth=2)"
   ]
  },
  {
   "cell_type": "code",
   "execution_count": null,
   "id": "c6cf31f2",
   "metadata": {},
   "outputs": [],
   "source": [
    "s.genTree(sub=C)"
   ]
  },
  {
   "cell_type": "code",
   "execution_count": 2,
   "id": "7c618b0e",
   "metadata": {},
   "outputs": [],
   "source": [
    "with open('hardModeBaseTruth.txt','r') as f:\n",
    "    lines = [s.strip().split(',') for s in f]"
   ]
  },
  {
   "cell_type": "code",
   "execution_count": 3,
   "id": "68e3f97e",
   "metadata": {},
   "outputs": [
    {
     "data": {
      "text/plain": [
       "8116"
      ]
     },
     "execution_count": 3,
     "metadata": {},
     "output_type": "execute_result"
    }
   ],
   "source": [
    "sum(map(len,lines))"
   ]
  },
  {
   "cell_type": "code",
   "execution_count": 4,
   "id": "2e7f1a67",
   "metadata": {},
   "outputs": [
    {
     "data": {
      "text/plain": [
       "2315"
      ]
     },
     "execution_count": 4,
     "metadata": {},
     "output_type": "execute_result"
    }
   ],
   "source": [
    "len(lines)"
   ]
  },
  {
   "cell_type": "code",
   "execution_count": 7,
   "id": "6c35f391",
   "metadata": {},
   "outputs": [
    {
     "data": {
      "text/plain": [
       "(221, 840, 3.8009049773755654)"
      ]
     },
     "execution_count": 7,
     "metadata": {},
     "output_type": "execute_result"
    }
   ],
   "source": [
    "filteredLines = []\n",
    "for line in lines:\n",
    "    if line[1] == 'drony':\n",
    "        filteredLines.append(line)\n",
    "a,b = len(filteredLines), sum(map(len, filteredLines))\n",
    "a,b,b/a"
   ]
  },
  {
   "cell_type": "code",
   "execution_count": 21,
   "id": "6e19087f",
   "metadata": {},
   "outputs": [
    {
     "data": {
      "text/plain": [
       "[['salet', 'drony', 'boofy', 'bobby'],\n",
       " ['salet', 'drony', 'boofy', 'comfy'],\n",
       " ['salet', 'drony', 'boofy', 'foggy'],\n",
       " ['salet', 'drony', 'boofy', 'hobby'],\n",
       " ['salet', 'drony', 'boofy', 'poppy'],\n",
       " ['salet', 'drony', 'boozy'],\n",
       " ['salet', 'drony', 'boozy', 'booby'],\n",
       " ['salet', 'drony', 'boozy', 'goofy'],\n",
       " ['salet', 'drony', 'boozy', 'woozy'],\n",
       " ['salet', 'drony', 'brink'],\n",
       " ['salet', 'drony', 'brink', 'bring'],\n",
       " ['salet', 'drony', 'brink', 'wring'],\n",
       " ['salet', 'drony', 'brink', 'wrung'],\n",
       " ['salet', 'drony', 'briny'],\n",
       " ['salet', 'drony', 'buddy'],\n",
       " ['salet', 'drony', 'buddy', 'biddy'],\n",
       " ['salet', 'drony', 'buddy', 'giddy'],\n",
       " ['salet', 'drony', 'buddy', 'muddy'],\n",
       " ['salet', 'drony', 'buddy', 'pudgy'],\n",
       " ['salet', 'drony', 'bunny'],\n",
       " ['salet', 'drony', 'bunny', 'funny'],\n",
       " ['salet', 'drony', 'bunny', 'ninny'],\n",
       " ['salet', 'drony', 'bunny', 'whiny'],\n",
       " ['salet', 'drony', 'chirp'],\n",
       " ['salet', 'drony', 'chirp', 'birch'],\n",
       " ['salet', 'drony', 'chirp', 'quirk'],\n",
       " ['salet', 'drony', 'choir'],\n",
       " ['salet', 'drony', 'chord'],\n",
       " ['salet', 'drony', 'chord', 'fjord'],\n",
       " ['salet', 'drony', 'chuck'],\n",
       " ['salet', 'drony', 'chuck', 'chick'],\n",
       " ['salet', 'drony', 'chuck', 'chump'],\n",
       " ['salet', 'drony', 'chuck', 'civic'],\n",
       " ['salet', 'drony', 'chuck', 'cubic'],\n",
       " ['salet', 'drony', 'chuck', 'humph'],\n",
       " ['salet', 'drony', 'chuck', 'mimic'],\n",
       " ['salet', 'drony', 'chuck', 'pubic'],\n",
       " ['salet', 'drony', 'chuck', 'quick'],\n",
       " ['salet', 'drony', 'chuck', 'which'],\n",
       " ['salet', 'drony', 'chuck', 'whiff'],\n",
       " ['salet', 'drony', 'churn'],\n",
       " ['salet', 'drony', 'churn', 'incur'],\n",
       " ['salet', 'drony', 'comic'],\n",
       " ['salet', 'drony', 'comic', 'bough'],\n",
       " ['salet', 'drony', 'comic', 'buxom'],\n",
       " ['salet', 'drony', 'comic', 'couch'],\n",
       " ['salet', 'drony', 'comic', 'cough'],\n",
       " ['salet', 'drony', 'comic', 'hippo'],\n",
       " ['salet', 'drony', 'comic', 'jumbo'],\n",
       " ['salet', 'drony', 'comic', 'jumbo', 'gumbo'],\n",
       " ['salet', 'drony', 'comic', 'opium'],\n",
       " ['salet', 'drony', 'comic', 'pouch'],\n",
       " ['salet', 'drony', 'comic', 'pouch', 'vouch'],\n",
       " ['salet', 'drony', 'condo'],\n",
       " ['salet', 'drony', 'crony'],\n",
       " ['salet', 'drony', 'crony', 'irony'],\n",
       " ['salet', 'drony', 'crumb'],\n",
       " ['salet', 'drony', 'crumb', 'brick'],\n",
       " ['salet', 'drony', 'crumb', 'crick'],\n",
       " ['salet', 'drony', 'crumb', 'crimp'],\n",
       " ['salet', 'drony', 'crumb', 'crump'],\n",
       " ['salet', 'drony', 'crumb', 'gruff'],\n",
       " ['salet', 'drony', 'crumb', 'prick'],\n",
       " ['salet', 'drony', 'curry'],\n",
       " ['salet', 'drony', 'curry', 'curvy'],\n",
       " ['salet', 'drony', 'curry', 'hurry'],\n",
       " ['salet', 'drony', 'curry', 'hurry', 'furry'],\n",
       " ['salet', 'drony', 'curry', 'murky'],\n",
       " ['salet', 'drony', 'curry', 'rugby'],\n",
       " ['salet', 'drony', 'cynic'],\n",
       " ['salet', 'drony', 'cynic', 'nymph'],\n",
       " ['salet', 'drony', 'dingo'],\n",
       " ['salet', 'drony', 'dingy'],\n",
       " ['salet', 'drony', 'doing'],\n",
       " ['salet', 'drony', 'donor'],\n",
       " ['salet', 'drony', 'dough'],\n",
       " ['salet', 'drony', 'dowdy'],\n",
       " ['salet', 'drony', 'dowdy', 'dodgy'],\n",
       " ['salet', 'drony', 'downy'],\n",
       " ['salet', 'drony', 'dowry'],\n",
       " ['salet', 'drony', 'droop'],\n",
       " ['salet', 'drony', 'drown'],\n",
       " ['salet', 'drony', 'druid'],\n",
       " ['salet', 'drony', 'drunk'],\n",
       " ['salet', 'drony', 'drunk', 'drink'],\n",
       " ['salet', 'drony', 'dumpy'],\n",
       " ['salet', 'drony', 'dumpy', 'dizzy'],\n",
       " ['salet', 'drony', 'dumpy', 'duchy'],\n",
       " ['salet', 'drony', 'dumpy', 'dummy'],\n",
       " ['salet', 'drony', 'dying'],\n",
       " ['salet', 'drony', 'frock'],\n",
       " ['salet', 'drony', 'frock', 'brook'],\n",
       " ['salet', 'drony', 'frock', 'crock'],\n",
       " ['salet', 'drony', 'frock', 'crook'],\n",
       " ['salet', 'drony', 'frock', 'croup'],\n",
       " ['salet', 'drony', 'frock', 'groom'],\n",
       " ['salet', 'drony', 'frock', 'groom', 'broom'],\n",
       " ['salet', 'drony', 'frock', 'groom', 'group'],\n",
       " ['salet', 'drony', 'frock', 'proof'],\n",
       " ['salet', 'drony', 'frond'],\n",
       " ['salet', 'drony', 'furor'],\n",
       " ['salet', 'drony', 'furor', 'curio'],\n",
       " ['salet', 'drony', 'furor', 'forgo'],\n",
       " ['salet', 'drony', 'furor', 'forum'],\n",
       " ['salet', 'drony', 'furor', 'humor'],\n",
       " ['salet', 'drony', 'furor', 'juror'],\n",
       " ['salet', 'drony', 'furor', 'micro'],\n",
       " ['salet', 'drony', 'furor', 'morph'],\n",
       " ['salet', 'drony', 'furor', 'morph', 'porch'],\n",
       " ['salet', 'drony', 'furor', 'occur'],\n",
       " ['salet', 'drony', 'furor', 'rigor'],\n",
       " ['salet', 'drony', 'furor', 'rough'],\n",
       " ['salet', 'drony', 'furor', 'rumor'],\n",
       " ['salet', 'drony', 'furor', 'vigor'],\n",
       " ['salet', 'drony', 'gimpy', 'buggy'],\n",
       " ['salet', 'drony', 'gimpy', 'fuzzy'],\n",
       " ['salet', 'drony', 'gimpy', 'gummy'],\n",
       " ['salet', 'drony', 'gimpy', 'guppy'],\n",
       " ['salet', 'drony', 'gimpy', 'hippy'],\n",
       " ['salet', 'drony', 'gimpy', 'jiffy'],\n",
       " ['salet', 'drony', 'gimpy', 'jiffy', 'fizzy'],\n",
       " ['salet', 'drony', 'gimpy', 'juicy'],\n",
       " ['salet', 'drony', 'gimpy', 'jumpy'],\n",
       " ['salet', 'drony', 'gimpy', 'mucky'],\n",
       " ['salet', 'drony', 'gimpy', 'mummy'],\n",
       " ['salet', 'drony', 'gimpy', 'picky'],\n",
       " ['salet', 'drony', 'gimpy', 'piggy'],\n",
       " ['salet', 'drony', 'gimpy', 'puffy'],\n",
       " ['salet', 'drony', 'gimpy', 'puppy'],\n",
       " ['salet', 'drony', 'gimpy', 'pygmy'],\n",
       " ['salet', 'drony', 'gimpy', 'wimpy'],\n",
       " ['salet', 'drony', 'gourd'],\n",
       " ['salet', 'drony', 'grind'],\n",
       " ['salet', 'drony', 'groin'],\n",
       " ['salet', 'drony', 'groin', 'frown'],\n",
       " ['salet', 'drony', 'groin', 'frown', 'crown'],\n",
       " ['salet', 'drony', 'groin', 'frown', 'crown', 'brown'],\n",
       " ['salet', 'drony', 'groin', 'grown'],\n",
       " ['salet', 'drony', 'horny'],\n",
       " ['salet', 'drony', 'horny', 'corny'],\n",
       " ['salet', 'drony', 'howdy'],\n",
       " ['salet', 'drony', 'humid'],\n",
       " ['salet', 'drony', 'humid', 'vivid'],\n",
       " ['salet', 'drony', 'hydro'],\n",
       " ['salet', 'drony', 'icing'],\n",
       " ['salet', 'drony', 'icing', 'chunk'],\n",
       " ['salet', 'drony', 'inbox'],\n",
       " ['salet', 'drony', 'inbox', 'bingo'],\n",
       " ['salet', 'drony', 'inbox', 'bongo'],\n",
       " ['salet', 'drony', 'inbox', 'conch'],\n",
       " ['salet', 'drony', 'inbox', 'conic'],\n",
       " ['salet', 'drony', 'inbox', 'ionic'],\n",
       " ['salet', 'drony', 'inbox', 'union'],\n",
       " ['salet', 'drony', 'inbox', 'union', 'onion'],\n",
       " ['salet', 'drony', 'knock'],\n",
       " ['salet', 'drony', 'knock', 'known'],\n",
       " ['salet', 'drony', 'moron'],\n",
       " ['salet', 'drony', 'moron', 'honor'],\n",
       " ['salet', 'drony', 'moron', 'minor'],\n",
       " ['salet', 'drony', 'moron', 'mourn'],\n",
       " ['salet', 'drony', 'moron', 'robin'],\n",
       " ['salet', 'drony', 'myrrh'],\n",
       " ['salet', 'drony', 'nimps', 'cinch'],\n",
       " ['salet', 'drony', 'nimps', 'cinch', 'winch'],\n",
       " ['salet', 'drony', 'nimps', 'cinch', 'winch', 'finch'],\n",
       " ['salet', 'drony', 'nimps', 'cumin'],\n",
       " ['salet', 'drony', 'nimps', 'fungi'],\n",
       " ['salet', 'drony', 'nimps', 'hunch'],\n",
       " ['salet', 'drony', 'nimps', 'hunch', 'bunch'],\n",
       " ['salet', 'drony', 'nimps', 'minim'],\n",
       " ['salet', 'drony', 'nimps', 'munch'],\n",
       " ['salet', 'drony', 'nimps', 'pinch'],\n",
       " ['salet', 'drony', 'nimps', 'punch'],\n",
       " ['salet', 'drony', 'nimps', 'unzip'],\n",
       " ['salet', 'drony', 'ovoid'],\n",
       " ['salet', 'drony', 'owing'],\n",
       " ['salet', 'drony', 'owing', 'going'],\n",
       " ['salet', 'drony', 'phony'],\n",
       " ['salet', 'drony', 'pooch'],\n",
       " ['salet', 'drony', 'pooch', 'chock'],\n",
       " ['salet', 'drony', 'pooch', 'whoop'],\n",
       " ['salet', 'drony', 'pownd', 'mound'],\n",
       " ['salet', 'drony', 'pownd', 'mound', 'hound'],\n",
       " ['salet', 'drony', 'pownd', 'mound', 'hound', 'bound'],\n",
       " ['salet', 'drony', 'pownd', 'mound', 'hound', 'bound', 'found'],\n",
       " ['salet', 'drony', 'pownd', 'pound'],\n",
       " ['salet', 'drony', 'pownd', 'wound'],\n",
       " ['salet', 'drony', 'primo'],\n",
       " ['salet', 'drony', 'primo', 'prior'],\n",
       " ['salet', 'drony', 'privy'],\n",
       " ['salet', 'drony', 'privy', 'grimy'],\n",
       " ['salet', 'drony', 'prong'],\n",
       " ['salet', 'drony', 'prong', 'wrong'],\n",
       " ['salet', 'drony', 'proud'],\n",
       " ['salet', 'drony', 'proud', 'crowd'],\n",
       " ['salet', 'drony', 'proud', 'crowd', 'brood'],\n",
       " ['salet', 'drony', 'proxy'],\n",
       " ['salet', 'drony', 'rhino'],\n",
       " ['salet', 'drony', 'rigid'],\n",
       " ['salet', 'drony', 'roomy'],\n",
       " ['salet', 'drony', 'roomy', 'ivory'],\n",
       " ['salet', 'drony', 'round'],\n",
       " ['salet', 'drony', 'rowdy'],\n",
       " ['salet', 'drony', 'rowdy', 'wordy'],\n",
       " ['salet', 'drony', 'ruddy'],\n",
       " ['salet', 'drony', 'undid'],\n",
       " ['salet', 'drony', 'unify'],\n",
       " ['salet', 'drony', 'unify', 'funky'],\n",
       " ['salet', 'drony', 'unify', 'hunky'],\n",
       " ['salet', 'drony', 'unify', 'pinky'],\n",
       " ['salet', 'drony', 'unify', 'pinky', 'kinky'],\n",
       " ['salet', 'drony', 'vying'],\n",
       " ['salet', 'drony', 'widow'],\n",
       " ['salet', 'drony', 'widow', 'idiom'],\n",
       " ['salet', 'drony', 'windy'],\n",
       " ['salet', 'drony', 'woody'],\n",
       " ['salet', 'drony', 'woody', 'goody'],\n",
       " ['salet', 'drony', 'woody', 'goody', 'moody'],\n",
       " ['salet', 'drony', 'worry'],\n",
       " ['salet', 'drony', 'worry', 'rocky'],\n",
       " ['salet', 'drony', 'young']]"
      ]
     },
     "execution_count": 21,
     "metadata": {},
     "output_type": "execute_result"
    }
   ],
   "source": [
    "filteredLines"
   ]
  },
  {
   "cell_type": "code",
   "execution_count": 16,
   "id": "57c4442d",
   "metadata": {},
   "outputs": [],
   "source": [
    "with open('originalBestTreeHardModeList.txt','r') as f:\n",
    "    lines2 = [s.strip().split(',') for s in f]"
   ]
  },
  {
   "cell_type": "code",
   "execution_count": 17,
   "id": "24391906",
   "metadata": {},
   "outputs": [
    {
     "data": {
      "text/plain": [
       "(221, 842, 3.8099547511312215)"
      ]
     },
     "execution_count": 17,
     "metadata": {},
     "output_type": "execute_result"
    }
   ],
   "source": [
    "c,d = len(lines2), sum(map(len, lines2))\n",
    "c,d,d/c"
   ]
  },
  {
   "cell_type": "code",
   "execution_count": 23,
   "id": "61bc8913",
   "metadata": {},
   "outputs": [
    {
     "data": {
      "text/plain": [
       "[['salet', 'drony', 'biddy'],\n",
       " ['salet', 'drony', 'biddy', 'buddy'],\n",
       " ['salet', 'drony', 'biddy', 'giddy'],\n",
       " ['salet', 'drony', 'biddy', 'muddy'],\n",
       " ['salet', 'drony', 'biddy', 'pudgy'],\n",
       " ['salet', 'drony', 'birch'],\n",
       " ['salet', 'drony', 'birch', 'chirp'],\n",
       " ['salet', 'drony', 'birch', 'quirk'],\n",
       " ['salet', 'drony', 'boggy', 'bobby'],\n",
       " ['salet', 'drony', 'boggy', 'comfy'],\n",
       " ['salet', 'drony', 'boggy', 'comfy', 'poppy'],\n",
       " ['salet', 'drony', 'boggy', 'foggy'],\n",
       " ['salet', 'drony', 'boggy', 'hobby'],\n",
       " ['salet', 'drony', 'boozy'],\n",
       " ['salet', 'drony', 'boozy', 'booby'],\n",
       " ['salet', 'drony', 'boozy', 'goofy'],\n",
       " ['salet', 'drony', 'boozy', 'woozy'],\n",
       " ['salet', 'drony', 'bring'],\n",
       " ['salet', 'drony', 'bring', 'brink'],\n",
       " ['salet', 'drony', 'bring', 'wring'],\n",
       " ['salet', 'drony', 'bring', 'wrung'],\n",
       " ['salet', 'drony', 'briny'],\n",
       " ['salet', 'drony', 'brood'],\n",
       " ['salet', 'drony', 'brood', 'crowd'],\n",
       " ['salet', 'drony', 'brood', 'crowd', 'proud'],\n",
       " ['salet', 'drony', 'brown'],\n",
       " ['salet', 'drony', 'brown', 'crown'],\n",
       " ['salet', 'drony', 'brown', 'crown', 'frown'],\n",
       " ['salet', 'drony', 'brown', 'crown', 'frown', 'grown'],\n",
       " ['salet', 'drony', 'brown', 'groin'],\n",
       " ['salet', 'drony', 'bunny'],\n",
       " ['salet', 'drony', 'bunny', 'funny'],\n",
       " ['salet', 'drony', 'bunny', 'ninny'],\n",
       " ['salet', 'drony', 'bunny', 'whiny'],\n",
       " ['salet', 'drony', 'chock'],\n",
       " ['salet', 'drony', 'chock', 'pooch'],\n",
       " ['salet', 'drony', 'chock', 'whoop'],\n",
       " ['salet', 'drony', 'choir'],\n",
       " ['salet', 'drony', 'chord'],\n",
       " ['salet', 'drony', 'chord', 'fjord'],\n",
       " ['salet', 'drony', 'chuck'],\n",
       " ['salet', 'drony', 'chuck', 'chick'],\n",
       " ['salet', 'drony', 'chuck', 'chump'],\n",
       " ['salet', 'drony', 'chuck', 'civic'],\n",
       " ['salet', 'drony', 'chuck', 'cubic'],\n",
       " ['salet', 'drony', 'chuck', 'humph'],\n",
       " ['salet', 'drony', 'chuck', 'mimic'],\n",
       " ['salet', 'drony', 'chuck', 'pubic'],\n",
       " ['salet', 'drony', 'chuck', 'quick'],\n",
       " ['salet', 'drony', 'chuck', 'which'],\n",
       " ['salet', 'drony', 'chuck', 'whiff'],\n",
       " ['salet', 'drony', 'chunk'],\n",
       " ['salet', 'drony', 'chunk', 'icing'],\n",
       " ['salet', 'drony', 'churn'],\n",
       " ['salet', 'drony', 'churn', 'incur'],\n",
       " ['salet', 'drony', 'comic'],\n",
       " ['salet', 'drony', 'comic', 'bough'],\n",
       " ['salet', 'drony', 'comic', 'buxom'],\n",
       " ['salet', 'drony', 'comic', 'couch'],\n",
       " ['salet', 'drony', 'comic', 'cough'],\n",
       " ['salet', 'drony', 'comic', 'gumbo'],\n",
       " ['salet', 'drony', 'comic', 'gumbo', 'jumbo'],\n",
       " ['salet', 'drony', 'comic', 'hippo'],\n",
       " ['salet', 'drony', 'comic', 'opium'],\n",
       " ['salet', 'drony', 'comic', 'pouch'],\n",
       " ['salet', 'drony', 'comic', 'pouch', 'vouch'],\n",
       " ['salet', 'drony', 'condo'],\n",
       " ['salet', 'drony', 'corny'],\n",
       " ['salet', 'drony', 'corny', 'horny'],\n",
       " ['salet', 'drony', 'crimp'],\n",
       " ['salet', 'drony', 'crimp', 'brick'],\n",
       " ['salet', 'drony', 'crimp', 'crick'],\n",
       " ['salet', 'drony', 'crimp', 'crumb'],\n",
       " ['salet', 'drony', 'crimp', 'crump'],\n",
       " ['salet', 'drony', 'crimp', 'gruff'],\n",
       " ['salet', 'drony', 'crimp', 'prick'],\n",
       " ['salet', 'drony', 'crony'],\n",
       " ['salet', 'drony', 'crony', 'irony'],\n",
       " ['salet', 'drony', 'crook'],\n",
       " ['salet', 'drony', 'crook', 'brook'],\n",
       " ['salet', 'drony', 'crook', 'crock'],\n",
       " ['salet', 'drony', 'crook', 'croup'],\n",
       " ['salet', 'drony', 'crook', 'frock'],\n",
       " ['salet', 'drony', 'crook', 'groom'],\n",
       " ['salet', 'drony', 'crook', 'groom', 'broom'],\n",
       " ['salet', 'drony', 'crook', 'groom', 'proof'],\n",
       " ['salet', 'drony', 'crook', 'group'],\n",
       " ['salet', 'drony', 'cumin'],\n",
       " ['salet', 'drony', 'cumin', 'cinch'],\n",
       " ['salet', 'drony', 'cumin', 'fungi'],\n",
       " ['salet', 'drony', 'cumin', 'minim'],\n",
       " ['salet', 'drony', 'cumin', 'munch'],\n",
       " ['salet', 'drony', 'cumin', 'pinch'],\n",
       " ['salet', 'drony', 'cumin', 'pinch', 'finch'],\n",
       " ['salet', 'drony', 'cumin', 'pinch', 'finch', 'winch'],\n",
       " ['salet', 'drony', 'cumin', 'punch'],\n",
       " ['salet', 'drony', 'cumin', 'punch', 'bunch'],\n",
       " ['salet', 'drony', 'cumin', 'punch', 'bunch', 'hunch'],\n",
       " ['salet', 'drony', 'cumin', 'unzip'],\n",
       " ['salet', 'drony', 'curry'],\n",
       " ['salet', 'drony', 'curry', 'curvy'],\n",
       " ['salet', 'drony', 'curry', 'furry'],\n",
       " ['salet', 'drony', 'curry', 'furry', 'hurry'],\n",
       " ['salet', 'drony', 'curry', 'murky'],\n",
       " ['salet', 'drony', 'curry', 'rugby'],\n",
       " ['salet', 'drony', 'cynic'],\n",
       " ['salet', 'drony', 'cynic', 'nymph'],\n",
       " ['salet', 'drony', 'dingo'],\n",
       " ['salet', 'drony', 'dingy'],\n",
       " ['salet', 'drony', 'dodgy'],\n",
       " ['salet', 'drony', 'dodgy', 'dowdy'],\n",
       " ['salet', 'drony', 'doing'],\n",
       " ['salet', 'drony', 'donor'],\n",
       " ['salet', 'drony', 'dough'],\n",
       " ['salet', 'drony', 'downy'],\n",
       " ['salet', 'drony', 'dowry'],\n",
       " ['salet', 'drony', 'drink'],\n",
       " ['salet', 'drony', 'drink', 'drunk'],\n",
       " ['salet', 'drony', 'droop'],\n",
       " ['salet', 'drony', 'drown'],\n",
       " ['salet', 'drony', 'druid'],\n",
       " ['salet', 'drony', 'dummy'],\n",
       " ['salet', 'drony', 'dummy', 'dizzy'],\n",
       " ['salet', 'drony', 'dummy', 'duchy'],\n",
       " ['salet', 'drony', 'dummy', 'dumpy'],\n",
       " ['salet', 'drony', 'dying'],\n",
       " ['salet', 'drony', 'frond'],\n",
       " ['salet', 'drony', 'funky'],\n",
       " ['salet', 'drony', 'funky', 'hunky'],\n",
       " ['salet', 'drony', 'funky', 'kinky'],\n",
       " ['salet', 'drony', 'funky', 'kinky', 'pinky'],\n",
       " ['salet', 'drony', 'funky', 'unify'],\n",
       " ['salet', 'drony', 'furor'],\n",
       " ['salet', 'drony', 'furor', 'curio'],\n",
       " ['salet', 'drony', 'furor', 'forgo'],\n",
       " ['salet', 'drony', 'furor', 'forum'],\n",
       " ['salet', 'drony', 'furor', 'humor'],\n",
       " ['salet', 'drony', 'furor', 'juror'],\n",
       " ['salet', 'drony', 'furor', 'micro'],\n",
       " ['salet', 'drony', 'furor', 'morph'],\n",
       " ['salet', 'drony', 'furor', 'morph', 'porch'],\n",
       " ['salet', 'drony', 'furor', 'occur'],\n",
       " ['salet', 'drony', 'furor', 'rigor'],\n",
       " ['salet', 'drony', 'furor', 'rough'],\n",
       " ['salet', 'drony', 'furor', 'rumor'],\n",
       " ['salet', 'drony', 'furor', 'vigor'],\n",
       " ['salet', 'drony', 'gimpy', 'buggy'],\n",
       " ['salet', 'drony', 'gimpy', 'fizzy'],\n",
       " ['salet', 'drony', 'gimpy', 'fizzy', 'jiffy'],\n",
       " ['salet', 'drony', 'gimpy', 'fuzzy'],\n",
       " ['salet', 'drony', 'gimpy', 'gummy'],\n",
       " ['salet', 'drony', 'gimpy', 'guppy'],\n",
       " ['salet', 'drony', 'gimpy', 'hippy'],\n",
       " ['salet', 'drony', 'gimpy', 'juicy'],\n",
       " ['salet', 'drony', 'gimpy', 'jumpy'],\n",
       " ['salet', 'drony', 'gimpy', 'mucky'],\n",
       " ['salet', 'drony', 'gimpy', 'mummy'],\n",
       " ['salet', 'drony', 'gimpy', 'picky'],\n",
       " ['salet', 'drony', 'gimpy', 'piggy'],\n",
       " ['salet', 'drony', 'gimpy', 'puffy'],\n",
       " ['salet', 'drony', 'gimpy', 'puppy'],\n",
       " ['salet', 'drony', 'gimpy', 'pygmy'],\n",
       " ['salet', 'drony', 'gimpy', 'wimpy'],\n",
       " ['salet', 'drony', 'going'],\n",
       " ['salet', 'drony', 'going', 'owing'],\n",
       " ['salet', 'drony', 'goody'],\n",
       " ['salet', 'drony', 'goody', 'moody'],\n",
       " ['salet', 'drony', 'goody', 'moody', 'woody'],\n",
       " ['salet', 'drony', 'gourd'],\n",
       " ['salet', 'drony', 'grimy'],\n",
       " ['salet', 'drony', 'grimy', 'privy'],\n",
       " ['salet', 'drony', 'grind'],\n",
       " ['salet', 'drony', 'howdy'],\n",
       " ['salet', 'drony', 'humid'],\n",
       " ['salet', 'drony', 'humid', 'vivid'],\n",
       " ['salet', 'drony', 'hydro'],\n",
       " ['salet', 'drony', 'idiom'],\n",
       " ['salet', 'drony', 'idiom', 'widow'],\n",
       " ['salet', 'drony', 'inbox'],\n",
       " ['salet', 'drony', 'inbox', 'bingo'],\n",
       " ['salet', 'drony', 'inbox', 'bongo'],\n",
       " ['salet', 'drony', 'inbox', 'conch'],\n",
       " ['salet', 'drony', 'inbox', 'conic'],\n",
       " ['salet', 'drony', 'inbox', 'ionic'],\n",
       " ['salet', 'drony', 'inbox', 'onion'],\n",
       " ['salet', 'drony', 'inbox', 'onion', 'union'],\n",
       " ['salet', 'drony', 'ivory'],\n",
       " ['salet', 'drony', 'ivory', 'roomy'],\n",
       " ['salet', 'drony', 'knock'],\n",
       " ['salet', 'drony', 'knock', 'known'],\n",
       " ['salet', 'drony', 'minor'],\n",
       " ['salet', 'drony', 'minor', 'honor'],\n",
       " ['salet', 'drony', 'minor', 'moron'],\n",
       " ['salet', 'drony', 'minor', 'mourn'],\n",
       " ['salet', 'drony', 'minor', 'robin'],\n",
       " ['salet', 'drony', 'myrrh'],\n",
       " ['salet', 'drony', 'ovoid'],\n",
       " ['salet', 'drony', 'phony'],\n",
       " ['salet', 'drony', 'pownd', 'bound'],\n",
       " ['salet', 'drony', 'pownd', 'bound', 'found'],\n",
       " ['salet', 'drony', 'pownd', 'bound', 'found', 'hound'],\n",
       " ['salet', 'drony', 'pownd', 'bound', 'found', 'hound', 'mound'],\n",
       " ['salet', 'drony', 'pownd', 'pound'],\n",
       " ['salet', 'drony', 'pownd', 'wound'],\n",
       " ['salet', 'drony', 'primo'],\n",
       " ['salet', 'drony', 'primo', 'prior'],\n",
       " ['salet', 'drony', 'prong'],\n",
       " ['salet', 'drony', 'prong', 'wrong'],\n",
       " ['salet', 'drony', 'proxy'],\n",
       " ['salet', 'drony', 'rhino'],\n",
       " ['salet', 'drony', 'rigid'],\n",
       " ['salet', 'drony', 'rocky'],\n",
       " ['salet', 'drony', 'rocky', 'worry'],\n",
       " ['salet', 'drony', 'round'],\n",
       " ['salet', 'drony', 'rowdy'],\n",
       " ['salet', 'drony', 'rowdy', 'wordy'],\n",
       " ['salet', 'drony', 'ruddy'],\n",
       " ['salet', 'drony', 'undid'],\n",
       " ['salet', 'drony', 'vying'],\n",
       " ['salet', 'drony', 'windy'],\n",
       " ['salet', 'drony', 'young']]"
      ]
     },
     "execution_count": 23,
     "metadata": {},
     "output_type": "execute_result"
    }
   ],
   "source": [
    "lines2"
   ]
  },
  {
   "cell_type": "code",
   "execution_count": 29,
   "id": "1837e3bc",
   "metadata": {},
   "outputs": [
    {
     "data": {
      "text/plain": [
       "({4: 134, 3: 68, 5: 15, 6: 3, 7: 1}, {3: 69, 4: 133, 5: 14, 6: 4, 7: 2})"
      ]
     },
     "execution_count": 29,
     "metadata": {},
     "output_type": "execute_result"
    }
   ],
   "source": [
    "x,y = {},{} \n",
    "for l,m in zip(filteredLines, lines2):\n",
    "    x[len(l)] = x.get(len(l),0) + 1\n",
    "    y[len(m)] = x.get(len(m),0) + 1\n",
    "x,y"
   ]
  },
  {
   "cell_type": "code",
   "execution_count": 40,
   "id": "ce2fd7fb",
   "metadata": {},
   "outputs": [
    {
     "data": {
      "text/plain": [
       "[['salet', 'drony', 'nimps', 'cinch'],\n",
       " ['salet', 'drony', 'nimps', 'cinch', 'winch'],\n",
       " ['salet', 'drony', 'nimps', 'cinch', 'winch', 'finch'],\n",
       " ['salet', 'drony', 'nimps', 'cumin'],\n",
       " ['salet', 'drony', 'nimps', 'fungi'],\n",
       " ['salet', 'drony', 'nimps', 'hunch'],\n",
       " ['salet', 'drony', 'nimps', 'hunch', 'bunch'],\n",
       " ['salet', 'drony', 'nimps', 'minim'],\n",
       " ['salet', 'drony', 'nimps', 'munch'],\n",
       " ['salet', 'drony', 'nimps', 'pinch'],\n",
       " ['salet', 'drony', 'nimps', 'punch'],\n",
       " ['salet', 'drony', 'nimps', 'unzip']]"
      ]
     },
     "execution_count": 40,
     "metadata": {},
     "output_type": "execute_result"
    }
   ],
   "source": [
    "sorted([l for l in filteredLines if len(l) > 3 and l[2] == 'nimps'])"
   ]
  },
  {
   "cell_type": "code",
   "execution_count": 41,
   "id": "e2185954",
   "metadata": {},
   "outputs": [
    {
     "data": {
      "text/plain": [
       "[['salet', 'drony', 'cumin', 'cinch'],\n",
       " ['salet', 'drony', 'cumin', 'fungi'],\n",
       " ['salet', 'drony', 'cumin', 'minim'],\n",
       " ['salet', 'drony', 'cumin', 'munch'],\n",
       " ['salet', 'drony', 'cumin', 'pinch'],\n",
       " ['salet', 'drony', 'cumin', 'pinch', 'finch'],\n",
       " ['salet', 'drony', 'cumin', 'pinch', 'finch', 'winch'],\n",
       " ['salet', 'drony', 'cumin', 'punch'],\n",
       " ['salet', 'drony', 'cumin', 'punch', 'bunch'],\n",
       " ['salet', 'drony', 'cumin', 'punch', 'bunch', 'hunch'],\n",
       " ['salet', 'drony', 'cumin', 'unzip']]"
      ]
     },
     "execution_count": 41,
     "metadata": {},
     "output_type": "execute_result"
    }
   ],
   "source": [
    "sorted([l for l in lines2 if len(l) > 3 and l[2] == 'cumin'])"
   ]
  },
  {
   "cell_type": "code",
   "execution_count": 6,
   "id": "8e0d5b9a",
   "metadata": {},
   "outputs": [
    {
     "data": {
      "text/plain": [
       "True"
      ]
     },
     "execution_count": 6,
     "metadata": {},
     "output_type": "execute_result"
    }
   ],
   "source": [
    "# softFilterPossible('salet','00110',G)\n",
    "from utils import *\n",
    "softMatch('salet','00110','acyls')"
   ]
  },
  {
   "cell_type": "code",
   "execution_count": null,
   "id": "3f0b15b4",
   "metadata": {},
   "outputs": [],
   "source": []
  }
 ],
 "metadata": {
  "kernelspec": {
   "display_name": "Python 3 (ipykernel)",
   "language": "python",
   "name": "python3"
  },
  "language_info": {
   "codemirror_mode": {
    "name": "ipython",
    "version": 3
   },
   "file_extension": ".py",
   "mimetype": "text/x-python",
   "name": "python",
   "nbconvert_exporter": "python",
   "pygments_lexer": "ipython3",
   "version": "3.10.4"
  },
  "vscode": {
   "interpreter": {
    "hash": "f87fde2320060d2900fddac7da54e7374722de106bfdb09feff620760be7bc48"
   }
  }
 },
 "nbformat": 4,
 "nbformat_minor": 5
}
