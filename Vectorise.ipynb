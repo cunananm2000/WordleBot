{
 "cells": [
  {
   "cell_type": "code",
   "execution_count": 12,
   "id": "bfda5cb0",
   "metadata": {},
   "outputs": [],
   "source": [
    "import pandas as pd\n",
    "import numpy as np\n",
    "import swifter\n",
    "from tqdm.auto import tqdm\n",
    "\n",
    "from wordLists import guesses, answers\n",
    "from utils import check, getSplits, filterPossible\n",
    "from valuations import *"
   ]
  },
  {
   "cell_type": "code",
   "execution_count": 18,
   "id": "dccc5c5d",
   "metadata": {},
   "outputs": [],
   "source": [
    "G = sorted(guesses + answers)\n",
    "S = sorted(answers)\n",
    "g = 'other'"
   ]
  },
  {
   "cell_type": "code",
   "execution_count": 3,
   "id": "af94ea3b",
   "metadata": {},
   "outputs": [],
   "source": [
    "df = pd.DataFrame()\n",
    "df['candidate'] = S"
   ]
  },
  {
   "cell_type": "code",
   "execution_count": 19,
   "id": "6e4038ae",
   "metadata": {},
   "outputs": [
    {
     "name": "stdout",
     "output_type": "stream",
     "text": [
      "CPU times: user 2min 38s, sys: 576 ms, total: 2min 39s\n",
      "Wall time: 2min 41s\n"
     ]
    }
   ],
   "source": [
    "%%time\n",
    "df['score'] = df[['candidate']].apply(lambda x: maxSizeSplit(x[0], G), axis = 1)"
   ]
  },
  {
   "cell_type": "code",
   "execution_count": 17,
   "id": "bb81eb6b",
   "metadata": {},
   "outputs": [
    {
     "data": {
      "application/vnd.jupyter.widget-view+json": {
       "model_id": "e60e1e535bf742c0b617db72ce2dde26",
       "version_major": 2,
       "version_minor": 0
      },
      "text/plain": [
       "  0%|          | 0/12947 [00:00<?, ?it/s]"
      ]
     },
     "metadata": {},
     "output_type": "display_data"
    },
    {
     "name": "stdout",
     "output_type": "stream",
     "text": [
      "CPU times: user 2min 50s, sys: 3.3 s, total: 2min 53s\n",
      "Wall time: 3min 2s\n"
     ]
    },
    {
     "data": {
      "text/plain": [
       "(-1424, 'immix')"
      ]
     },
     "execution_count": 17,
     "metadata": {},
     "output_type": "execute_result"
    }
   ],
   "source": [
    "%%time\n",
    "# max(getSplits('other', S).values())\n",
    "# filterPossible(g, '00000',S)\n",
    "sorted([(maxSizeSplit(g, S), g) for g in tqdm(G)])[0]"
   ]
  },
  {
   "cell_type": "code",
   "execution_count": 2,
   "id": "06c6c8e3",
   "metadata": {},
   "outputs": [],
   "source": [
    "from vectorise import check_numpy, check_numba, test_check_normal, test_check_numpy, test_check_numba\n",
    "from utils import check"
   ]
  },
  {
   "cell_type": "code",
   "execution_count": 3,
   "id": "bd4e9535",
   "metadata": {},
   "outputs": [
    {
     "name": "stdout",
     "output_type": "stream",
     "text": [
      "4.79 µs ± 1.36 µs per loop (mean ± std. dev. of 7 runs, 100000 loops each)\n"
     ]
    }
   ],
   "source": [
    "%timeit check('abcde','cbeda')"
   ]
  },
  {
   "cell_type": "code",
   "execution_count": 6,
   "id": "fc782f52",
   "metadata": {},
   "outputs": [],
   "source": [
    "g,s = np.array(list('abcde')), np.array(list('ecbda'))"
   ]
  },
  {
   "cell_type": "code",
   "execution_count": 8,
   "id": "d4cd86c5",
   "metadata": {},
   "outputs": [
    {
     "name": "stdout",
     "output_type": "stream",
     "text": [
      "15.6 µs ± 225 ns per loop (mean ± std. dev. of 7 runs, 100000 loops each)\n"
     ]
    }
   ],
   "source": [
    "%timeit check_numpy(g,s)"
   ]
  },
  {
   "cell_type": "code",
   "execution_count": 4,
   "id": "1daa61ce",
   "metadata": {},
   "outputs": [
    {
     "name": "stderr",
     "output_type": "stream",
     "text": [
      "/Library/Frameworks/Python.framework/Versions/3.7/lib/python3.7/site-packages/numba/core/ir_utils.py:2152: NumbaPendingDeprecationWarning: \u001b[1m\n",
      "Encountered the use of a type that is scheduled for deprecation: type 'reflected list' found for argument 'l' of function 'test_check_numba'.\n",
      "\n",
      "For more information visit https://numba.readthedocs.io/en/stable/reference/deprecation.html#deprecation-of-reflection-for-list-and-set-types\n",
      "\u001b[1m\n",
      "File \"vectorise.py\", line 84:\u001b[0m\n",
      "\u001b[1m@jit(nopython=True)\n",
      "\u001b[1mdef test_check_numba(l):\n",
      "\u001b[0m\u001b[1m^\u001b[0m\u001b[0m\n",
      "\u001b[0m\n",
      "  warnings.warn(NumbaPendingDeprecationWarning(msg, loc=loc))\n"
     ]
    },
    {
     "name": "stdout",
     "output_type": "stream",
     "text": [
      "23.2 ms ± 1.12 ms per loop (mean ± std. dev. of 7 runs, 1 loop each)\n"
     ]
    }
   ],
   "source": [
    "%timeit test_check_numba(answers)"
   ]
  },
  {
   "cell_type": "code",
   "execution_count": 15,
   "id": "06a8c414",
   "metadata": {},
   "outputs": [
    {
     "data": {
      "text/plain": [
       "array([False,  True,  True,  True, False])"
      ]
     },
     "execution_count": 15,
     "metadata": {},
     "output_type": "execute_result"
    }
   ],
   "source": [
    "a = np.array(list('abcde'))\n",
    "b = np.array(list('ebcda'))\n",
    "\n",
    "a==b"
   ]
  },
  {
   "cell_type": "code",
   "execution_count": 16,
   "id": "a5cf79e6",
   "metadata": {},
   "outputs": [
    {
     "data": {
      "text/plain": [
       "array('abcde', dtype='<U5')"
      ]
     },
     "execution_count": 16,
     "metadata": {},
     "output_type": "execute_result"
    }
   ],
   "source": [
    "np.array('abcde')"
   ]
  },
  {
   "cell_type": "code",
   "execution_count": null,
   "id": "72e49750",
   "metadata": {},
   "outputs": [],
   "source": []
  }
 ],
 "metadata": {
  "kernelspec": {
   "display_name": "Python 3",
   "language": "python",
   "name": "python3"
  },
  "language_info": {
   "codemirror_mode": {
    "name": "ipython",
    "version": 3
   },
   "file_extension": ".py",
   "mimetype": "text/x-python",
   "name": "python",
   "nbconvert_exporter": "python",
   "pygments_lexer": "ipython3",
   "version": "3.7.0"
  }
 },
 "nbformat": 4,
 "nbformat_minor": 5
}
