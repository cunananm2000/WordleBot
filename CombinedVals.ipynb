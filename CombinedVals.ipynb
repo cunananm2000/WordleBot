{
 "cells": [
  {
   "cell_type": "code",
   "execution_count": 1,
   "id": "aef73f70",
   "metadata": {},
   "outputs": [],
   "source": [
    "import numpy as np\n",
    "import pandas as pd\n",
    "import os\n",
    "from ValuationStrategyCached import ValuationStrategyCached\n",
    "\n",
    "path = \"combinedVals/\"\n",
    "dirs = os.listdir(path)"
   ]
  },
  {
   "cell_type": "code",
<<<<<<< HEAD
   "execution_count": 8,
=======
   "execution_count": 2,
>>>>>>> 337a06191b573150b6b463a59071a3330c65761d
   "id": "aabf4e8a",
   "metadata": {},
   "outputs": [],
   "source": [
    "def getAvg(fname):\n",
    "    g = ValuationStrategyCached(strategyFile = f'{path}{fname}')\n",
    "    scores = g.runAllPossibleAnswers()\n",
    "    return np.mean(scores)\n",
    "\n",
    "def getWorst(fname):\n",
    "    g = ValuationStrategyCached(strategyFile = f'{path}{fname}')\n",
    "    scores = g.runAllPossibleAnswers()\n",
    "    m = np.max(scores)\n",
    "    return m, scores.count(m)"
   ]
  },
  {
   "cell_type": "code",
<<<<<<< HEAD
   "execution_count": 9,
=======
   "execution_count": 3,
>>>>>>> 337a06191b573150b6b463a59071a3330c65761d
   "id": "f60968f9",
   "metadata": {},
   "outputs": [
    {
     "data": {
      "application/vnd.jupyter.widget-view+json": {
<<<<<<< HEAD
       "model_id": "6c5f110664af45f2910fc51e9782d7dc",
=======
       "model_id": "71dc2c5bd3a44868a33c7df410c7dc8b",
>>>>>>> 337a06191b573150b6b463a59071a3330c65761d
       "version_major": 2,
       "version_minor": 0
      },
      "text/plain": [
       "  0%|          | 0/2309 [00:00<?, ?it/s]"
      ]
     },
     "metadata": {},
     "output_type": "display_data"
    },
    {
     "data": {
      "application/vnd.jupyter.widget-view+json": {
<<<<<<< HEAD
       "model_id": "08b40118417e494aa21495460ff6678d",
=======
       "model_id": "485d2766bde84ad0b84307fb7b0f972b",
>>>>>>> 337a06191b573150b6b463a59071a3330c65761d
       "version_major": 2,
       "version_minor": 0
      },
      "text/plain": [
       "  0%|          | 0/2309 [00:00<?, ?it/s]"
      ]
     },
     "metadata": {},
     "output_type": "display_data"
    },
    {
     "data": {
      "application/vnd.jupyter.widget-view+json": {
<<<<<<< HEAD
       "model_id": "b00ecaa9957e40219fa991f19d64ce64",
=======
       "model_id": "04d20917542e4ab3b1fe340c42236ce3",
>>>>>>> 337a06191b573150b6b463a59071a3330c65761d
       "version_major": 2,
       "version_minor": 0
      },
      "text/plain": [
       "  0%|          | 0/2309 [00:00<?, ?it/s]"
      ]
     },
     "metadata": {},
     "output_type": "display_data"
    },
    {
     "data": {
      "application/vnd.jupyter.widget-view+json": {
<<<<<<< HEAD
       "model_id": "815ff3383cc042a7bfd83d76e0fef14a",
=======
       "model_id": "9fa74ee09e154451b0670beee30556a8",
>>>>>>> 337a06191b573150b6b463a59071a3330c65761d
       "version_major": 2,
       "version_minor": 0
      },
      "text/plain": [
       "  0%|          | 0/2309 [00:00<?, ?it/s]"
      ]
     },
     "metadata": {},
     "output_type": "display_data"
    },
    {
     "data": {
      "application/vnd.jupyter.widget-view+json": {
<<<<<<< HEAD
       "model_id": "f67137db5e974c888e713f72e691c596",
=======
       "model_id": "af1b2325f4e44c1ab068edef1a5870b4",
>>>>>>> 337a06191b573150b6b463a59071a3330c65761d
       "version_major": 2,
       "version_minor": 0
      },
      "text/plain": [
       "  0%|          | 0/2309 [00:00<?, ?it/s]"
      ]
     },
     "metadata": {},
     "output_type": "display_data"
    },
    {
     "data": {
      "application/vnd.jupyter.widget-view+json": {
<<<<<<< HEAD
       "model_id": "9a82d94f77ad47f3a5753558014def25",
=======
       "model_id": "60ce5f064cd54861b5660a2879445e16",
>>>>>>> 337a06191b573150b6b463a59071a3330c65761d
       "version_major": 2,
       "version_minor": 0
      },
      "text/plain": [
       "  0%|          | 0/2309 [00:00<?, ?it/s]"
      ]
     },
     "metadata": {},
     "output_type": "display_data"
    },
    {
     "data": {
      "application/vnd.jupyter.widget-view+json": {
<<<<<<< HEAD
       "model_id": "6ba458208d1d4e31818e85897a2b97ad",
=======
       "model_id": "1cf23a4fef0541e7ac901e2611c6e345",
>>>>>>> 337a06191b573150b6b463a59071a3330c65761d
       "version_major": 2,
       "version_minor": 0
      },
      "text/plain": [
       "  0%|          | 0/2309 [00:00<?, ?it/s]"
      ]
     },
     "metadata": {},
     "output_type": "display_data"
    },
    {
     "data": {
      "application/vnd.jupyter.widget-view+json": {
<<<<<<< HEAD
       "model_id": "46b619591f3c4e44ab9a7e17aa099e5c",
=======
       "model_id": "4a9358852c59469b99fc12aff0d5810f",
>>>>>>> 337a06191b573150b6b463a59071a3330c65761d
       "version_major": 2,
       "version_minor": 0
      },
      "text/plain": [
       "  0%|          | 0/2309 [00:00<?, ?it/s]"
      ]
     },
     "metadata": {},
     "output_type": "display_data"
    },
    {
     "data": {
      "application/vnd.jupyter.widget-view+json": {
<<<<<<< HEAD
       "model_id": "727dd1fdae3840588f2334b85e4fecfd",
=======
       "model_id": "35b2caecd18d4154949124873f527fbf",
>>>>>>> 337a06191b573150b6b463a59071a3330c65761d
       "version_major": 2,
       "version_minor": 0
      },
      "text/plain": [
       "  0%|          | 0/2309 [00:00<?, ?it/s]"
      ]
     },
     "metadata": {},
     "output_type": "display_data"
    },
    {
     "data": {
      "application/vnd.jupyter.widget-view+json": {
<<<<<<< HEAD
       "model_id": "88bfbf409d63419287657fe459b16412",
=======
       "model_id": "7e321c1be70744c9ba43eaea4abc6f9d",
>>>>>>> 337a06191b573150b6b463a59071a3330c65761d
       "version_major": 2,
       "version_minor": 0
      },
      "text/plain": [
       "  0%|          | 0/2309 [00:00<?, ?it/s]"
      ]
     },
     "metadata": {},
     "output_type": "display_data"
    },
    {
     "data": {
      "application/vnd.jupyter.widget-view+json": {
<<<<<<< HEAD
       "model_id": "53622baa30744a85a3a71d062680d051",
=======
       "model_id": "ea1c3092c4404cd89610bd805eccbc8e",
>>>>>>> 337a06191b573150b6b463a59071a3330c65761d
       "version_major": 2,
       "version_minor": 0
      },
      "text/plain": [
       "  0%|          | 0/2309 [00:00<?, ?it/s]"
      ]
     },
     "metadata": {},
     "output_type": "display_data"
    },
    {
     "data": {
      "application/vnd.jupyter.widget-view+json": {
<<<<<<< HEAD
       "model_id": "a487b15ed1f74a20a1acc9a0120d078f",
=======
       "model_id": "71be5a0536d248f88f576f49874e51ea",
>>>>>>> 337a06191b573150b6b463a59071a3330c65761d
       "version_major": 2,
       "version_minor": 0
      },
      "text/plain": [
       "  0%|          | 0/2309 [00:00<?, ?it/s]"
      ]
     },
     "metadata": {},
     "output_type": "display_data"
    },
    {
     "data": {
      "application/vnd.jupyter.widget-view+json": {
<<<<<<< HEAD
       "model_id": "4da5355154c14d0f8f7384a19ece3526",
=======
       "model_id": "32cc438737724076a5c770baba10f4ef",
>>>>>>> 337a06191b573150b6b463a59071a3330c65761d
       "version_major": 2,
       "version_minor": 0
      },
      "text/plain": [
       "  0%|          | 0/2309 [00:00<?, ?it/s]"
      ]
     },
     "metadata": {},
     "output_type": "display_data"
    },
    {
     "data": {
      "application/vnd.jupyter.widget-view+json": {
<<<<<<< HEAD
       "model_id": "7ed91275aaaa417895cdb85865c9d4a0",
=======
       "model_id": "debf38c970c548d1a719e1171de1e4ab",
>>>>>>> 337a06191b573150b6b463a59071a3330c65761d
       "version_major": 2,
       "version_minor": 0
      },
      "text/plain": [
       "  0%|          | 0/2309 [00:00<?, ?it/s]"
      ]
     },
     "metadata": {},
     "output_type": "display_data"
    },
    {
     "data": {
      "application/vnd.jupyter.widget-view+json": {
<<<<<<< HEAD
       "model_id": "da2c3f6610514c55ab3f6e4f3cbb1d1e",
=======
       "model_id": "784605440a864c799762c210a44353f4",
>>>>>>> 337a06191b573150b6b463a59071a3330c65761d
       "version_major": 2,
       "version_minor": 0
      },
      "text/plain": [
       "  0%|          | 0/2309 [00:00<?, ?it/s]"
      ]
     },
     "metadata": {},
     "output_type": "display_data"
    },
    {
     "data": {
      "application/vnd.jupyter.widget-view+json": {
<<<<<<< HEAD
       "model_id": "bc465b2fd3ca486a9d9349f22b1d5b12",
=======
       "model_id": "d2ccff6567d04340bc4f378e41981ae9",
>>>>>>> 337a06191b573150b6b463a59071a3330c65761d
       "version_major": 2,
       "version_minor": 0
      },
      "text/plain": [
       "  0%|          | 0/2309 [00:00<?, ?it/s]"
      ]
     },
     "metadata": {},
     "output_type": "display_data"
    },
    {
     "data": {
      "application/vnd.jupyter.widget-view+json": {
<<<<<<< HEAD
       "model_id": "7a65171e0b2345a0b9fd8285aaec8dbf",
=======
       "model_id": "f597bcc060564ae198dc3e0e4bde9be7",
>>>>>>> 337a06191b573150b6b463a59071a3330c65761d
       "version_major": 2,
       "version_minor": 0
      },
      "text/plain": [
       "  0%|          | 0/2309 [00:00<?, ?it/s]"
      ]
     },
     "metadata": {},
     "output_type": "display_data"
    },
    {
     "data": {
      "application/vnd.jupyter.widget-view+json": {
<<<<<<< HEAD
       "model_id": "f26295ac0aae41ecb9664c9b8bf3b988",
=======
       "model_id": "e8962d06ecbf45c99166f801c02bf0f0",
>>>>>>> 337a06191b573150b6b463a59071a3330c65761d
       "version_major": 2,
       "version_minor": 0
      },
      "text/plain": [
       "  0%|          | 0/2309 [00:00<?, ?it/s]"
      ]
     },
     "metadata": {},
     "output_type": "display_data"
    },
    {
     "data": {
      "application/vnd.jupyter.widget-view+json": {
<<<<<<< HEAD
       "model_id": "78155a64d2b24c88b9e9fcb171ea37b8",
=======
       "model_id": "7c301bfde8e14acb97e79500326b8ec6",
>>>>>>> 337a06191b573150b6b463a59071a3330c65761d
       "version_major": 2,
       "version_minor": 0
      },
      "text/plain": [
       "  0%|          | 0/2309 [00:00<?, ?it/s]"
      ]
     },
     "metadata": {},
     "output_type": "display_data"
    },
    {
     "data": {
      "application/vnd.jupyter.widget-view+json": {
<<<<<<< HEAD
       "model_id": "2146c28fdb724d8e9c10ffc7ffdcc5b8",
=======
       "model_id": "f85f702009c8402083b56ee6a4eecfd4",
>>>>>>> 337a06191b573150b6b463a59071a3330c65761d
       "version_major": 2,
       "version_minor": 0
      },
      "text/plain": [
       "  0%|          | 0/2309 [00:00<?, ?it/s]"
      ]
     },
     "metadata": {},
     "output_type": "display_data"
    },
    {
     "data": {
      "application/vnd.jupyter.widget-view+json": {
<<<<<<< HEAD
       "model_id": "cb6daa5a454f4583ac0abcf55792a15e",
=======
       "model_id": "e9163cc8967e4ec58613e52ef956cb00",
>>>>>>> 337a06191b573150b6b463a59071a3330c65761d
       "version_major": 2,
       "version_minor": 0
      },
      "text/plain": [
       "  0%|          | 0/2309 [00:00<?, ?it/s]"
      ]
     },
     "metadata": {},
     "output_type": "display_data"
    },
    {
     "data": {
      "application/vnd.jupyter.widget-view+json": {
<<<<<<< HEAD
       "model_id": "3f437c496af94453b564ba5244c912a6",
=======
       "model_id": "61b4ccfd49ac42f7acef6e24761c662b",
>>>>>>> 337a06191b573150b6b463a59071a3330c65761d
       "version_major": 2,
       "version_minor": 0
      },
      "text/plain": [
       "  0%|          | 0/2309 [00:00<?, ?it/s]"
      ]
     },
     "metadata": {},
     "output_type": "display_data"
    },
    {
     "data": {
      "application/vnd.jupyter.widget-view+json": {
<<<<<<< HEAD
       "model_id": "01bbf395761e4db38c9450c38d741678",
=======
       "model_id": "c4174b401ecc4f25911e53b0d4b749d8",
>>>>>>> 337a06191b573150b6b463a59071a3330c65761d
       "version_major": 2,
       "version_minor": 0
      },
      "text/plain": [
       "  0%|          | 0/2309 [00:00<?, ?it/s]"
      ]
     },
     "metadata": {},
     "output_type": "display_data"
    },
    {
     "data": {
      "application/vnd.jupyter.widget-view+json": {
<<<<<<< HEAD
       "model_id": "1dd4c8d428b14489b223389103adb258",
=======
       "model_id": "7c02b81deb964f9b81c1a5af64455faf",
>>>>>>> 337a06191b573150b6b463a59071a3330c65761d
       "version_major": 2,
       "version_minor": 0
      },
      "text/plain": [
       "  0%|          | 0/2309 [00:00<?, ?it/s]"
      ]
     },
     "metadata": {},
     "output_type": "display_data"
    },
    {
     "data": {
      "application/vnd.jupyter.widget-view+json": {
<<<<<<< HEAD
       "model_id": "e3fceff23b2344a6a1bd00a03a6210d8",
=======
       "model_id": "1d44972801a2488da76e8c1c55dfd178",
>>>>>>> 337a06191b573150b6b463a59071a3330c65761d
       "version_major": 2,
       "version_minor": 0
      },
      "text/plain": [
       "  0%|          | 0/2309 [00:00<?, ?it/s]"
      ]
     },
     "metadata": {},
     "output_type": "display_data"
    },
    {
     "data": {
      "application/vnd.jupyter.widget-view+json": {
<<<<<<< HEAD
       "model_id": "43a9843d0eca4c15b01babfbc9685da4",
=======
       "model_id": "aa4a5dd741a54ec48c85e21db6db7aef",
>>>>>>> 337a06191b573150b6b463a59071a3330c65761d
       "version_major": 2,
       "version_minor": 0
      },
      "text/plain": [
       "  0%|          | 0/2309 [00:00<?, ?it/s]"
      ]
     },
     "metadata": {},
     "output_type": "display_data"
    },
    {
     "data": {
      "application/vnd.jupyter.widget-view+json": {
<<<<<<< HEAD
       "model_id": "13efe21d47844ab4b458016f6b9407ec",
=======
       "model_id": "403bce30105f4cdd849770fa40b9f6f3",
>>>>>>> 337a06191b573150b6b463a59071a3330c65761d
       "version_major": 2,
       "version_minor": 0
      },
      "text/plain": [
       "  0%|          | 0/2309 [00:00<?, ?it/s]"
      ]
     },
     "metadata": {},
     "output_type": "display_data"
    },
    {
     "data": {
      "application/vnd.jupyter.widget-view+json": {
<<<<<<< HEAD
       "model_id": "b1138b27f94f4f28a37d982ed5513775",
=======
       "model_id": "a49f7fbb603346b4b18203461fe4f20e",
>>>>>>> 337a06191b573150b6b463a59071a3330c65761d
       "version_major": 2,
       "version_minor": 0
      },
      "text/plain": [
       "  0%|          | 0/2309 [00:00<?, ?it/s]"
      ]
     },
     "metadata": {},
     "output_type": "display_data"
    },
    {
     "data": {
      "application/vnd.jupyter.widget-view+json": {
<<<<<<< HEAD
       "model_id": "132580b9d4224e0a96b7d0b5d21c83f0",
=======
       "model_id": "6a6f9a32a5bd4f46ad874f946430a74a",
>>>>>>> 337a06191b573150b6b463a59071a3330c65761d
       "version_major": 2,
       "version_minor": 0
      },
      "text/plain": [
       "  0%|          | 0/2309 [00:00<?, ?it/s]"
      ]
     },
     "metadata": {},
     "output_type": "display_data"
    },
    {
     "data": {
      "application/vnd.jupyter.widget-view+json": {
<<<<<<< HEAD
       "model_id": "93d6460ffbba4fe68282d672157eb03e",
=======
       "model_id": "507fccf288ae40919760a802280dfc50",
>>>>>>> 337a06191b573150b6b463a59071a3330c65761d
       "version_major": 2,
       "version_minor": 0
      },
      "text/plain": [
       "  0%|          | 0/2309 [00:00<?, ?it/s]"
      ]
     },
     "metadata": {},
     "output_type": "display_data"
    },
    {
     "data": {
      "application/vnd.jupyter.widget-view+json": {
<<<<<<< HEAD
       "model_id": "6783d1b17c3f4605b52756cca66bd190",
=======
       "model_id": "f0da667d75cc440691936fd8b84d5cf3",
>>>>>>> 337a06191b573150b6b463a59071a3330c65761d
       "version_major": 2,
       "version_minor": 0
      },
      "text/plain": [
       "  0%|          | 0/2309 [00:00<?, ?it/s]"
      ]
     },
     "metadata": {},
     "output_type": "display_data"
    },
    {
     "data": {
      "application/vnd.jupyter.widget-view+json": {
<<<<<<< HEAD
       "model_id": "d21256729a184621989c1b4dddf77a7d",
=======
       "model_id": "225c3eb9aa04404bbf732f4df5b02dc6",
>>>>>>> 337a06191b573150b6b463a59071a3330c65761d
       "version_major": 2,
       "version_minor": 0
      },
      "text/plain": [
       "  0%|          | 0/2309 [00:00<?, ?it/s]"
      ]
     },
     "metadata": {},
     "output_type": "display_data"
    },
    {
     "data": {
      "application/vnd.jupyter.widget-view+json": {
<<<<<<< HEAD
       "model_id": "3e510dbf1af24bf593915d52f2209d49",
=======
       "model_id": "33b29afc633d43bcbbb3c6d78fa20cd7",
>>>>>>> 337a06191b573150b6b463a59071a3330c65761d
       "version_major": 2,
       "version_minor": 0
      },
      "text/plain": [
       "  0%|          | 0/2309 [00:00<?, ?it/s]"
      ]
     },
     "metadata": {},
     "output_type": "display_data"
    },
    {
     "data": {
      "application/vnd.jupyter.widget-view+json": {
<<<<<<< HEAD
       "model_id": "866540715627496b95ca173796acbac7",
=======
       "model_id": "aa2c429fe8cc43988ab8f37cadb81500",
>>>>>>> 337a06191b573150b6b463a59071a3330c65761d
       "version_major": 2,
       "version_minor": 0
      },
      "text/plain": [
       "  0%|          | 0/2309 [00:00<?, ?it/s]"
      ]
     },
     "metadata": {},
     "output_type": "display_data"
    },
    {
     "data": {
      "application/vnd.jupyter.widget-view+json": {
<<<<<<< HEAD
       "model_id": "2cfd6b5c6b7d46d196361b9cb3e58cb0",
=======
       "model_id": "b3ccdc49d0ed49daafbdb5b0ef9c71e6",
>>>>>>> 337a06191b573150b6b463a59071a3330c65761d
       "version_major": 2,
       "version_minor": 0
      },
      "text/plain": [
       "  0%|          | 0/2309 [00:00<?, ?it/s]"
      ]
     },
     "metadata": {},
     "output_type": "display_data"
    },
    {
     "data": {
      "application/vnd.jupyter.widget-view+json": {
<<<<<<< HEAD
       "model_id": "3da18d0bde8c4d25b2139a0eebcdbf2c",
=======
       "model_id": "8547dd9c224c480b839e6767f2c47b9f",
>>>>>>> 337a06191b573150b6b463a59071a3330c65761d
       "version_major": 2,
       "version_minor": 0
      },
      "text/plain": [
       "  0%|          | 0/2309 [00:00<?, ?it/s]"
      ]
     },
     "metadata": {},
     "output_type": "display_data"
    },
    {
     "data": {
      "application/vnd.jupyter.widget-view+json": {
<<<<<<< HEAD
       "model_id": "2e08bce4693f4db99792409c4d1f86d2",
=======
       "model_id": "61013286934e4fb0bd8fe5b750fd183d",
>>>>>>> 337a06191b573150b6b463a59071a3330c65761d
       "version_major": 2,
       "version_minor": 0
      },
      "text/plain": [
       "  0%|          | 0/2309 [00:00<?, ?it/s]"
      ]
     },
     "metadata": {},
     "output_type": "display_data"
    },
    {
     "data": {
      "application/vnd.jupyter.widget-view+json": {
<<<<<<< HEAD
       "model_id": "fc0e73f502be4d5db823922d6a9a5f52",
=======
       "model_id": "1d4edbf906c24e9188b6e1852d50329a",
>>>>>>> 337a06191b573150b6b463a59071a3330c65761d
       "version_major": 2,
       "version_minor": 0
      },
      "text/plain": [
       "  0%|          | 0/2309 [00:00<?, ?it/s]"
      ]
     },
     "metadata": {},
     "output_type": "display_data"
    },
    {
     "data": {
      "application/vnd.jupyter.widget-view+json": {
<<<<<<< HEAD
       "model_id": "47e47a96953f43e6bb2f45e86f516c21",
=======
       "model_id": "be4a262a1dce4833baebf1f1e5586a4c",
>>>>>>> 337a06191b573150b6b463a59071a3330c65761d
       "version_major": 2,
       "version_minor": 0
      },
      "text/plain": [
       "  0%|          | 0/2309 [00:00<?, ?it/s]"
      ]
     },
     "metadata": {},
     "output_type": "display_data"
    },
    {
     "data": {
      "application/vnd.jupyter.widget-view+json": {
<<<<<<< HEAD
       "model_id": "8bf55950b5224ecd9e647b68d4c35f9b",
=======
       "model_id": "711185af993d4fbda3a471a05ca13ab0",
>>>>>>> 337a06191b573150b6b463a59071a3330c65761d
       "version_major": 2,
       "version_minor": 0
      },
      "text/plain": [
       "  0%|          | 0/2309 [00:00<?, ?it/s]"
      ]
     },
     "metadata": {},
     "output_type": "display_data"
    },
    {
     "data": {
      "application/vnd.jupyter.widget-view+json": {
<<<<<<< HEAD
       "model_id": "c6b54357205f4b40aa73df6d1ff8e9ed",
=======
       "model_id": "8e9f803f5059478780d0dd318e0a5464",
>>>>>>> 337a06191b573150b6b463a59071a3330c65761d
       "version_major": 2,
       "version_minor": 0
      },
      "text/plain": [
       "  0%|          | 0/2309 [00:00<?, ?it/s]"
      ]
     },
     "metadata": {},
     "output_type": "display_data"
    },
    {
     "data": {
      "application/vnd.jupyter.widget-view+json": {
<<<<<<< HEAD
       "model_id": "4253b44e2a854416ae63989d2b6de794",
=======
       "model_id": "2e816c0fb0f748989f19b34cc3c1e581",
>>>>>>> 337a06191b573150b6b463a59071a3330c65761d
       "version_major": 2,
       "version_minor": 0
      },
      "text/plain": [
       "  0%|          | 0/2309 [00:00<?, ?it/s]"
      ]
     },
     "metadata": {},
     "output_type": "display_data"
    },
    {
     "data": {
      "application/vnd.jupyter.widget-view+json": {
<<<<<<< HEAD
       "model_id": "532aec961dd14ae7b2f514e8a33674a5",
=======
       "model_id": "728f623ba60c434f9bc903ff94bb61a7",
>>>>>>> 337a06191b573150b6b463a59071a3330c65761d
       "version_major": 2,
       "version_minor": 0
      },
      "text/plain": [
       "  0%|          | 0/2309 [00:00<?, ?it/s]"
      ]
     },
     "metadata": {},
     "output_type": "display_data"
    },
    {
     "data": {
      "application/vnd.jupyter.widget-view+json": {
<<<<<<< HEAD
       "model_id": "0cf4bcb2b2574c4ab5862478f3fcf254",
=======
       "model_id": "a91d06b5a24642c1ab42afed933e42e1",
>>>>>>> 337a06191b573150b6b463a59071a3330c65761d
       "version_major": 2,
       "version_minor": 0
      },
      "text/plain": [
       "  0%|          | 0/2309 [00:00<?, ?it/s]"
      ]
     },
     "metadata": {},
     "output_type": "display_data"
    },
    {
     "data": {
      "application/vnd.jupyter.widget-view+json": {
<<<<<<< HEAD
       "model_id": "f119863738f34d1da92be674d99bae23",
=======
       "model_id": "99ed0d006ade439da36e24f5f93fe47b",
>>>>>>> 337a06191b573150b6b463a59071a3330c65761d
       "version_major": 2,
       "version_minor": 0
      },
      "text/plain": [
       "  0%|          | 0/2309 [00:00<?, ?it/s]"
      ]
     },
     "metadata": {},
     "output_type": "display_data"
    },
    {
     "data": {
      "application/vnd.jupyter.widget-view+json": {
<<<<<<< HEAD
       "model_id": "509f4da7ef314a2ca7f46626a98b958f",
=======
       "model_id": "a1ebfa42c844492e8d1f9d176aa4499a",
>>>>>>> 337a06191b573150b6b463a59071a3330c65761d
       "version_major": 2,
       "version_minor": 0
      },
      "text/plain": [
       "  0%|          | 0/2309 [00:00<?, ?it/s]"
      ]
     },
     "metadata": {},
     "output_type": "display_data"
    },
    {
     "data": {
      "application/vnd.jupyter.widget-view+json": {
<<<<<<< HEAD
       "model_id": "e86f036b861e4067b60706e10a550b33",
=======
       "model_id": "d66a71c29774478ca3caf1ebccc8282e",
>>>>>>> 337a06191b573150b6b463a59071a3330c65761d
       "version_major": 2,
       "version_minor": 0
      },
      "text/plain": [
       "  0%|          | 0/2309 [00:00<?, ?it/s]"
      ]
     },
     "metadata": {},
     "output_type": "display_data"
    },
    {
     "data": {
      "application/vnd.jupyter.widget-view+json": {
<<<<<<< HEAD
       "model_id": "9ce4016b278e489b9cb95ba3429f6174",
=======
       "model_id": "901fbfad7e87481f9ef3f93d78a6e976",
>>>>>>> 337a06191b573150b6b463a59071a3330c65761d
       "version_major": 2,
       "version_minor": 0
      },
      "text/plain": [
       "  0%|          | 0/2309 [00:00<?, ?it/s]"
      ]
     },
     "metadata": {},
     "output_type": "display_data"
    },
    {
     "data": {
      "application/vnd.jupyter.widget-view+json": {
<<<<<<< HEAD
       "model_id": "345c4ed77634403c925caacfa45e23c1",
=======
       "model_id": "e3802df575fe40139c22205592d39aaa",
>>>>>>> 337a06191b573150b6b463a59071a3330c65761d
       "version_major": 2,
       "version_minor": 0
      },
      "text/plain": [
       "  0%|          | 0/2309 [00:00<?, ?it/s]"
      ]
     },
     "metadata": {},
     "output_type": "display_data"
    },
    {
     "data": {
      "application/vnd.jupyter.widget-view+json": {
<<<<<<< HEAD
       "model_id": "4f6992fa87694be3936f82a131405d57",
=======
       "model_id": "77eae9b13d61473b87973aebd7c26af7",
>>>>>>> 337a06191b573150b6b463a59071a3330c65761d
       "version_major": 2,
       "version_minor": 0
      },
      "text/plain": [
       "  0%|          | 0/2309 [00:00<?, ?it/s]"
      ]
     },
     "metadata": {},
     "output_type": "display_data"
    },
    {
     "data": {
      "application/vnd.jupyter.widget-view+json": {
<<<<<<< HEAD
       "model_id": "e74834188edc40ff87dcc168d27158cb",
=======
       "model_id": "9fd47d7fed414612a9d8f8192b3f95d0",
>>>>>>> 337a06191b573150b6b463a59071a3330c65761d
       "version_major": 2,
       "version_minor": 0
      },
      "text/plain": [
       "  0%|          | 0/2309 [00:00<?, ?it/s]"
      ]
     },
     "metadata": {},
     "output_type": "display_data"
    },
    {
     "data": {
      "application/vnd.jupyter.widget-view+json": {
<<<<<<< HEAD
       "model_id": "2624e30a5fed429b9bc08e6fba3a3513",
=======
       "model_id": "44107a54a4684517a67719ac087eadcd",
>>>>>>> 337a06191b573150b6b463a59071a3330c65761d
       "version_major": 2,
       "version_minor": 0
      },
      "text/plain": [
       "  0%|          | 0/2309 [00:00<?, ?it/s]"
      ]
     },
     "metadata": {},
     "output_type": "display_data"
    },
    {
     "data": {
      "application/vnd.jupyter.widget-view+json": {
<<<<<<< HEAD
       "model_id": "51bb1cda82874202a6b0fa8f06e5cc3a",
=======
       "model_id": "0c661f32b74240889409c23f7ae8a708",
>>>>>>> 337a06191b573150b6b463a59071a3330c65761d
       "version_major": 2,
       "version_minor": 0
      },
      "text/plain": [
       "  0%|          | 0/2309 [00:00<?, ?it/s]"
      ]
     },
     "metadata": {},
     "output_type": "display_data"
    },
    {
     "data": {
      "application/vnd.jupyter.widget-view+json": {
<<<<<<< HEAD
       "model_id": "3d1fc534180b49c3b1bd071b4c0186d6",
=======
       "model_id": "27e2bfe25ddf4adba3ec86a48d8b6667",
>>>>>>> 337a06191b573150b6b463a59071a3330c65761d
       "version_major": 2,
       "version_minor": 0
      },
      "text/plain": [
       "  0%|          | 0/2309 [00:00<?, ?it/s]"
      ]
     },
     "metadata": {},
     "output_type": "display_data"
    },
    {
     "data": {
      "application/vnd.jupyter.widget-view+json": {
<<<<<<< HEAD
       "model_id": "ce64670d2d324a6f86e289d68d975d4c",
=======
       "model_id": "6a8e1a10ffbb4ffdafad3b4f1615a0f7",
>>>>>>> 337a06191b573150b6b463a59071a3330c65761d
       "version_major": 2,
       "version_minor": 0
      },
      "text/plain": [
       "  0%|          | 0/2309 [00:00<?, ?it/s]"
      ]
     },
     "metadata": {},
     "output_type": "display_data"
    },
    {
     "data": {
      "application/vnd.jupyter.widget-view+json": {
<<<<<<< HEAD
       "model_id": "d74fd04e1cdb477dbac696c788f600ad",
=======
       "model_id": "b8e6cdca83894078ac740445400e7078",
>>>>>>> 337a06191b573150b6b463a59071a3330c65761d
       "version_major": 2,
       "version_minor": 0
      },
      "text/plain": [
       "  0%|          | 0/2309 [00:00<?, ?it/s]"
      ]
     },
     "metadata": {},
     "output_type": "display_data"
    },
    {
     "data": {
      "application/vnd.jupyter.widget-view+json": {
<<<<<<< HEAD
       "model_id": "7cb99e19fb9945b493fc734db5abfc9c",
=======
       "model_id": "9842d5038d1d4e1c80f95a048a7fb0db",
>>>>>>> 337a06191b573150b6b463a59071a3330c65761d
       "version_major": 2,
       "version_minor": 0
      },
      "text/plain": [
       "  0%|          | 0/2309 [00:00<?, ?it/s]"
      ]
     },
     "metadata": {},
     "output_type": "display_data"
    },
    {
     "data": {
      "application/vnd.jupyter.widget-view+json": {
<<<<<<< HEAD
       "model_id": "a084ee27da274ef5bd9672a77db68ad7",
=======
       "model_id": "46a15a18f2ac451082ab2ea844f60f02",
>>>>>>> 337a06191b573150b6b463a59071a3330c65761d
       "version_major": 2,
       "version_minor": 0
      },
      "text/plain": [
       "  0%|          | 0/2309 [00:00<?, ?it/s]"
      ]
     },
     "metadata": {},
     "output_type": "display_data"
    },
    {
     "data": {
      "application/vnd.jupyter.widget-view+json": {
<<<<<<< HEAD
       "model_id": "d8162990da51428989770a827e96187e",
=======
       "model_id": "c89783f5345a464db7ab076b650b4612",
>>>>>>> 337a06191b573150b6b463a59071a3330c65761d
       "version_major": 2,
       "version_minor": 0
      },
      "text/plain": [
       "  0%|          | 0/2309 [00:00<?, ?it/s]"
      ]
     },
     "metadata": {},
     "output_type": "display_data"
    },
    {
     "data": {
      "application/vnd.jupyter.widget-view+json": {
<<<<<<< HEAD
       "model_id": "6732243cedcc445ba8c738d2473709e7",
=======
       "model_id": "b7e0fa97220a4900ac2fe5bc0c39fcd3",
>>>>>>> 337a06191b573150b6b463a59071a3330c65761d
       "version_major": 2,
       "version_minor": 0
      },
      "text/plain": [
       "  0%|          | 0/2309 [00:00<?, ?it/s]"
      ]
     },
     "metadata": {},
     "output_type": "display_data"
    },
    {
     "data": {
      "application/vnd.jupyter.widget-view+json": {
<<<<<<< HEAD
       "model_id": "033ddb88a4e3430fbad6e57dc8cc695c",
=======
       "model_id": "80e292ba46c645b9bcce55138d8160f0",
>>>>>>> 337a06191b573150b6b463a59071a3330c65761d
       "version_major": 2,
       "version_minor": 0
      },
      "text/plain": [
       "  0%|          | 0/2309 [00:00<?, ?it/s]"
      ]
     },
     "metadata": {},
     "output_type": "display_data"
    },
    {
     "data": {
      "application/vnd.jupyter.widget-view+json": {
<<<<<<< HEAD
       "model_id": "a4c63cbd69e04dfe9eaaa308154e4867",
=======
       "model_id": "df8097aa4dd841029fc33d8221263de6",
>>>>>>> 337a06191b573150b6b463a59071a3330c65761d
       "version_major": 2,
       "version_minor": 0
      },
      "text/plain": [
       "  0%|          | 0/2309 [00:00<?, ?it/s]"
      ]
     },
     "metadata": {},
     "output_type": "display_data"
    },
    {
     "data": {
      "application/vnd.jupyter.widget-view+json": {
<<<<<<< HEAD
       "model_id": "9a8e19aacafb43be964391e91e06a82c",
=======
       "model_id": "5ffa93e99ec04957b1109ebdf22a6477",
>>>>>>> 337a06191b573150b6b463a59071a3330c65761d
       "version_major": 2,
       "version_minor": 0
      },
      "text/plain": [
       "  0%|          | 0/2309 [00:00<?, ?it/s]"
      ]
     },
     "metadata": {},
     "output_type": "display_data"
    },
    {
     "data": {
      "application/vnd.jupyter.widget-view+json": {
<<<<<<< HEAD
       "model_id": "a4ac3f1decaa4a8bbf0413d373092a36",
=======
       "model_id": "9d8573a434324058b8db736a0696dbb3",
>>>>>>> 337a06191b573150b6b463a59071a3330c65761d
       "version_major": 2,
       "version_minor": 0
      },
      "text/plain": [
       "  0%|          | 0/2309 [00:00<?, ?it/s]"
      ]
     },
     "metadata": {},
     "output_type": "display_data"
    },
    {
     "data": {
      "application/vnd.jupyter.widget-view+json": {
<<<<<<< HEAD
       "model_id": "f80527fb14364a6985d8d58827008cfe",
=======
       "model_id": "78f5a6422d144cbe948491bdc83decbb",
>>>>>>> 337a06191b573150b6b463a59071a3330c65761d
       "version_major": 2,
       "version_minor": 0
      },
      "text/plain": [
       "  0%|          | 0/2309 [00:00<?, ?it/s]"
      ]
     },
     "metadata": {},
     "output_type": "display_data"
    },
    {
     "data": {
      "application/vnd.jupyter.widget-view+json": {
<<<<<<< HEAD
       "model_id": "7676d12f658840a5b3b6c4b0b8cea8c3",
=======
       "model_id": "ea31ca889b694a6abc2498cf0b981a32",
>>>>>>> 337a06191b573150b6b463a59071a3330c65761d
       "version_major": 2,
       "version_minor": 0
      },
      "text/plain": [
       "  0%|          | 0/2309 [00:00<?, ?it/s]"
      ]
     },
     "metadata": {},
     "output_type": "display_data"
    },
    {
     "data": {
      "application/vnd.jupyter.widget-view+json": {
<<<<<<< HEAD
       "model_id": "a42417aa64004f568fdcae821bd2f2f7",
=======
       "model_id": "6fb6c7fe6b6f4fb38ad0495d8ea42359",
>>>>>>> 337a06191b573150b6b463a59071a3330c65761d
       "version_major": 2,
       "version_minor": 0
      },
      "text/plain": [
       "  0%|          | 0/2309 [00:00<?, ?it/s]"
      ]
     },
     "metadata": {},
     "output_type": "display_data"
    },
    {
     "data": {
      "application/vnd.jupyter.widget-view+json": {
<<<<<<< HEAD
       "model_id": "ea1f78702d024f07a11804a9dea77d71",
=======
       "model_id": "17d189cb32664c25bbd95393ac6b512d",
>>>>>>> 337a06191b573150b6b463a59071a3330c65761d
       "version_major": 2,
       "version_minor": 0
      },
      "text/plain": [
       "  0%|          | 0/2309 [00:00<?, ?it/s]"
      ]
     },
     "metadata": {},
     "output_type": "display_data"
    },
    {
     "data": {
      "application/vnd.jupyter.widget-view+json": {
<<<<<<< HEAD
       "model_id": "af447c4491824a5c85a46628489d57f3",
=======
       "model_id": "77426f7e836c4be19de6b2aa587483e0",
>>>>>>> 337a06191b573150b6b463a59071a3330c65761d
       "version_major": 2,
       "version_minor": 0
      },
      "text/plain": [
       "  0%|          | 0/2309 [00:00<?, ?it/s]"
      ]
     },
     "metadata": {},
     "output_type": "display_data"
    },
    {
     "data": {
      "application/vnd.jupyter.widget-view+json": {
<<<<<<< HEAD
       "model_id": "99b479cd98b8445895f977ad7e04ded7",
=======
       "model_id": "ba16906582544f26a80f69635106beb3",
>>>>>>> 337a06191b573150b6b463a59071a3330c65761d
       "version_major": 2,
       "version_minor": 0
      },
      "text/plain": [
       "  0%|          | 0/2309 [00:00<?, ?it/s]"
      ]
     },
     "metadata": {},
     "output_type": "display_data"
    },
    {
     "data": {
      "application/vnd.jupyter.widget-view+json": {
<<<<<<< HEAD
       "model_id": "dc981e88558e42fabfc91541fd9bc326",
=======
       "model_id": "fa5affeadb8c44c089f01fd48d5205bf",
>>>>>>> 337a06191b573150b6b463a59071a3330c65761d
       "version_major": 2,
       "version_minor": 0
      },
      "text/plain": [
       "  0%|          | 0/2309 [00:00<?, ?it/s]"
      ]
     },
     "metadata": {},
     "output_type": "display_data"
    },
    {
     "data": {
      "application/vnd.jupyter.widget-view+json": {
<<<<<<< HEAD
       "model_id": "1df2dbf7154249fd92c44963e4b2a49b",
=======
       "model_id": "75478dbe8104438a839748a8e2a7743c",
>>>>>>> 337a06191b573150b6b463a59071a3330c65761d
       "version_major": 2,
       "version_minor": 0
      },
      "text/plain": [
       "  0%|          | 0/2309 [00:00<?, ?it/s]"
      ]
     },
     "metadata": {},
     "output_type": "display_data"
    },
    {
     "data": {
      "application/vnd.jupyter.widget-view+json": {
<<<<<<< HEAD
       "model_id": "f6d17b02d05841b1ae34f41463416889",
=======
       "model_id": "c0aa884bc58e45529f6aa2291b00c89b",
>>>>>>> 337a06191b573150b6b463a59071a3330c65761d
       "version_major": 2,
       "version_minor": 0
      },
      "text/plain": [
       "  0%|          | 0/2309 [00:00<?, ?it/s]"
      ]
     },
     "metadata": {},
     "output_type": "display_data"
    },
    {
     "data": {
      "application/vnd.jupyter.widget-view+json": {
<<<<<<< HEAD
       "model_id": "3d965baa1b3647f2be428f26149fc964",
=======
       "model_id": "b190b1e1b3fa40ab83ab74002a59232f",
>>>>>>> 337a06191b573150b6b463a59071a3330c65761d
       "version_major": 2,
       "version_minor": 0
      },
      "text/plain": [
       "  0%|          | 0/2309 [00:00<?, ?it/s]"
      ]
     },
     "metadata": {},
     "output_type": "display_data"
    },
    {
     "data": {
      "application/vnd.jupyter.widget-view+json": {
<<<<<<< HEAD
       "model_id": "22c21f758bea45f98839cff421f17bb1",
=======
       "model_id": "d0dff2c37bb945e7aef7506b351dd740",
>>>>>>> 337a06191b573150b6b463a59071a3330c65761d
       "version_major": 2,
       "version_minor": 0
      },
      "text/plain": [
       "  0%|          | 0/2309 [00:00<?, ?it/s]"
      ]
     },
     "metadata": {},
     "output_type": "display_data"
    },
    {
     "data": {
      "application/vnd.jupyter.widget-view+json": {
<<<<<<< HEAD
       "model_id": "1cd9488b5211416ba6ecfe0e7a483398",
=======
       "model_id": "8a6f7f495bcc4a828e6a0a0fe928b8f8",
>>>>>>> 337a06191b573150b6b463a59071a3330c65761d
       "version_major": 2,
       "version_minor": 0
      },
      "text/plain": [
       "  0%|          | 0/2309 [00:00<?, ?it/s]"
      ]
     },
     "metadata": {},
     "output_type": "display_data"
    },
    {
     "data": {
      "application/vnd.jupyter.widget-view+json": {
<<<<<<< HEAD
       "model_id": "698bc1e4f7c74ea386c1a43aaa792c99",
=======
       "model_id": "e2b0f9ee04414c1b9a8816223ce31b18",
>>>>>>> 337a06191b573150b6b463a59071a3330c65761d
       "version_major": 2,
       "version_minor": 0
      },
      "text/plain": [
       "  0%|          | 0/2309 [00:00<?, ?it/s]"
      ]
     },
     "metadata": {},
     "output_type": "display_data"
    },
    {
     "data": {
      "application/vnd.jupyter.widget-view+json": {
<<<<<<< HEAD
       "model_id": "196fa7369ae745e59d3269c956c1e843",
=======
       "model_id": "1f5f706443554e07933e8b3c477c29ab",
>>>>>>> 337a06191b573150b6b463a59071a3330c65761d
       "version_major": 2,
       "version_minor": 0
      },
      "text/plain": [
       "  0%|          | 0/2309 [00:00<?, ?it/s]"
      ]
     },
     "metadata": {},
     "output_type": "display_data"
    },
    {
     "data": {
      "application/vnd.jupyter.widget-view+json": {
<<<<<<< HEAD
       "model_id": "2252456149504ddbab0f3048b044d309",
=======
       "model_id": "d998408fa2e74982ac87456d774305f5",
>>>>>>> 337a06191b573150b6b463a59071a3330c65761d
       "version_major": 2,
       "version_minor": 0
      },
      "text/plain": [
       "  0%|          | 0/2309 [00:00<?, ?it/s]"
      ]
     },
     "metadata": {},
     "output_type": "display_data"
    },
    {
     "data": {
      "application/vnd.jupyter.widget-view+json": {
<<<<<<< HEAD
       "model_id": "03292a3f5acc456d8a3f18d440d7b5b3",
=======
       "model_id": "900b742f1fce42ff92c864425980a2d8",
>>>>>>> 337a06191b573150b6b463a59071a3330c65761d
       "version_major": 2,
       "version_minor": 0
      },
      "text/plain": [
       "  0%|          | 0/2309 [00:00<?, ?it/s]"
      ]
     },
     "metadata": {},
     "output_type": "display_data"
    },
    {
     "data": {
      "application/vnd.jupyter.widget-view+json": {
<<<<<<< HEAD
       "model_id": "acb81f7b86c24f16806b9e38600932d7",
=======
       "model_id": "14c8f7b2847548f28df406e96788d707",
>>>>>>> 337a06191b573150b6b463a59071a3330c65761d
       "version_major": 2,
       "version_minor": 0
      },
      "text/plain": [
       "  0%|          | 0/2309 [00:00<?, ?it/s]"
      ]
     },
     "metadata": {},
     "output_type": "display_data"
    },
    {
     "data": {
      "application/vnd.jupyter.widget-view+json": {
<<<<<<< HEAD
       "model_id": "669b15dfbd7c4578b6d7fc85d190ef57",
=======
       "model_id": "85f8beec15b54deba8f7c1a386ebe11a",
>>>>>>> 337a06191b573150b6b463a59071a3330c65761d
       "version_major": 2,
       "version_minor": 0
      },
      "text/plain": [
       "  0%|          | 0/2309 [00:00<?, ?it/s]"
      ]
     },
     "metadata": {},
     "output_type": "display_data"
    },
    {
     "data": {
      "application/vnd.jupyter.widget-view+json": {
<<<<<<< HEAD
       "model_id": "f27e636ef99a483cb4e2551e9aa78fd6",
=======
       "model_id": "1767ac329c4c40c8b6062e3a78f2b205",
>>>>>>> 337a06191b573150b6b463a59071a3330c65761d
       "version_major": 2,
       "version_minor": 0
      },
      "text/plain": [
       "  0%|          | 0/2309 [00:00<?, ?it/s]"
      ]
     },
     "metadata": {},
     "output_type": "display_data"
    },
    {
     "data": {
      "application/vnd.jupyter.widget-view+json": {
<<<<<<< HEAD
       "model_id": "3634f154c27f4e54b8628a8e120bab83",
=======
       "model_id": "b80a9a8fb7e6439c8a20b6bb4b816a8a",
>>>>>>> 337a06191b573150b6b463a59071a3330c65761d
       "version_major": 2,
       "version_minor": 0
      },
      "text/plain": [
       "  0%|          | 0/2309 [00:00<?, ?it/s]"
      ]
     },
     "metadata": {},
     "output_type": "display_data"
    },
    {
     "data": {
      "application/vnd.jupyter.widget-view+json": {
<<<<<<< HEAD
       "model_id": "4f9c84d0a4344021af73400665d6cb06",
=======
       "model_id": "34aef8ab243d45719c5ece2694dacfa8",
>>>>>>> 337a06191b573150b6b463a59071a3330c65761d
       "version_major": 2,
       "version_minor": 0
      },
      "text/plain": [
       "  0%|          | 0/2309 [00:00<?, ?it/s]"
      ]
     },
     "metadata": {},
     "output_type": "display_data"
    },
    {
     "data": {
      "application/vnd.jupyter.widget-view+json": {
<<<<<<< HEAD
       "model_id": "d8c4a711847746dfb14e0a76db75fd49",
=======
       "model_id": "2ac077bb8ac345bc9a74aa646bc1f96a",
>>>>>>> 337a06191b573150b6b463a59071a3330c65761d
       "version_major": 2,
       "version_minor": 0
      },
      "text/plain": [
       "  0%|          | 0/2309 [00:00<?, ?it/s]"
      ]
     },
     "metadata": {},
     "output_type": "display_data"
    },
    {
     "data": {
      "application/vnd.jupyter.widget-view+json": {
<<<<<<< HEAD
       "model_id": "87e088fd8804436f8c3a752c48b3a975",
=======
       "model_id": "61b32128c4b84863baee6706811062ce",
>>>>>>> 337a06191b573150b6b463a59071a3330c65761d
       "version_major": 2,
       "version_minor": 0
      },
      "text/plain": [
       "  0%|          | 0/2309 [00:00<?, ?it/s]"
      ]
     },
     "metadata": {},
     "output_type": "display_data"
    },
    {
     "data": {
      "application/vnd.jupyter.widget-view+json": {
<<<<<<< HEAD
       "model_id": "e7dc196bfbb946a192fde5988200784e",
=======
       "model_id": "80b7754285ba490bb6f29e05ff890ff8",
>>>>>>> 337a06191b573150b6b463a59071a3330c65761d
       "version_major": 2,
       "version_minor": 0
      },
      "text/plain": [
       "  0%|          | 0/2309 [00:00<?, ?it/s]"
      ]
     },
     "metadata": {},
     "output_type": "display_data"
    },
    {
     "data": {
      "application/vnd.jupyter.widget-view+json": {
<<<<<<< HEAD
       "model_id": "f226e9bc118f4f11b3e78d6826fbb994",
=======
       "model_id": "a39a5a8ad3eb40cb839fc101fd7d349e",
>>>>>>> 337a06191b573150b6b463a59071a3330c65761d
       "version_major": 2,
       "version_minor": 0
      },
      "text/plain": [
       "  0%|          | 0/2309 [00:00<?, ?it/s]"
      ]
     },
     "metadata": {},
     "output_type": "display_data"
    },
    {
     "data": {
      "application/vnd.jupyter.widget-view+json": {
<<<<<<< HEAD
       "model_id": "35caf8b8614f40648f2e1fbfda1a9d92",
=======
       "model_id": "c0f45a5f347f47778384209a924ee982",
>>>>>>> 337a06191b573150b6b463a59071a3330c65761d
       "version_major": 2,
       "version_minor": 0
      },
      "text/plain": [
       "  0%|          | 0/2309 [00:00<?, ?it/s]"
      ]
     },
     "metadata": {},
     "output_type": "display_data"
    },
    {
     "data": {
      "application/vnd.jupyter.widget-view+json": {
<<<<<<< HEAD
       "model_id": "076a694f49e74e279b03cd5272e287c5",
=======
       "model_id": "24b280bf5b2a4611b2d7e4e7f193e9aa",
>>>>>>> 337a06191b573150b6b463a59071a3330c65761d
       "version_major": 2,
       "version_minor": 0
      },
      "text/plain": [
       "  0%|          | 0/2309 [00:00<?, ?it/s]"
      ]
     },
     "metadata": {},
     "output_type": "display_data"
    },
    {
     "data": {
      "application/vnd.jupyter.widget-view+json": {
<<<<<<< HEAD
       "model_id": "43907c0765174c909b355f4322a05e52",
=======
       "model_id": "577ef7d88e96424ab08b44db75c3590a",
>>>>>>> 337a06191b573150b6b463a59071a3330c65761d
       "version_major": 2,
       "version_minor": 0
      },
      "text/plain": [
       "  0%|          | 0/2309 [00:00<?, ?it/s]"
      ]
     },
     "metadata": {},
     "output_type": "display_data"
    },
    {
     "data": {
      "application/vnd.jupyter.widget-view+json": {
<<<<<<< HEAD
       "model_id": "8a46c91c1a3c45ec8f3f5b05589258d9",
=======
       "model_id": "9c9c8b3ba10d4922982fd737efeb40c2",
>>>>>>> 337a06191b573150b6b463a59071a3330c65761d
       "version_major": 2,
       "version_minor": 0
      },
      "text/plain": [
       "  0%|          | 0/2309 [00:00<?, ?it/s]"
      ]
     },
     "metadata": {},
     "output_type": "display_data"
    },
    {
     "data": {
      "application/vnd.jupyter.widget-view+json": {
<<<<<<< HEAD
       "model_id": "9043f13b6bdf44768f6128f5c963abef",
=======
       "model_id": "d08b6386e27e42c78225bd7bd651ae18",
>>>>>>> 337a06191b573150b6b463a59071a3330c65761d
       "version_major": 2,
       "version_minor": 0
      },
      "text/plain": [
       "  0%|          | 0/2309 [00:00<?, ?it/s]"
      ]
     },
     "metadata": {},
     "output_type": "display_data"
    },
    {
     "data": {
      "application/vnd.jupyter.widget-view+json": {
<<<<<<< HEAD
       "model_id": "29773282ac224111afe5b683e08a5452",
=======
       "model_id": "c7843a166c2940df8d10b57f8f893ab6",
>>>>>>> 337a06191b573150b6b463a59071a3330c65761d
       "version_major": 2,
       "version_minor": 0
      },
      "text/plain": [
       "  0%|          | 0/2309 [00:00<?, ?it/s]"
      ]
     },
     "metadata": {},
     "output_type": "display_data"
    },
    {
     "data": {
      "application/vnd.jupyter.widget-view+json": {
<<<<<<< HEAD
       "model_id": "3b4bb72c356c448d9fc7d191b5a09ced",
=======
       "model_id": "1fe2eadf55b94de5b99d8e01ee676cfb",
>>>>>>> 337a06191b573150b6b463a59071a3330c65761d
       "version_major": 2,
       "version_minor": 0
      },
      "text/plain": [
       "  0%|          | 0/2309 [00:00<?, ?it/s]"
      ]
     },
     "metadata": {},
     "output_type": "display_data"
    },
    {
     "data": {
      "application/vnd.jupyter.widget-view+json": {
<<<<<<< HEAD
       "model_id": "6564ffd940b74444ab70695a66ea24c6",
=======
       "model_id": "a231584cdc3249b3b4e703a09416e3b7",
>>>>>>> 337a06191b573150b6b463a59071a3330c65761d
       "version_major": 2,
       "version_minor": 0
      },
      "text/plain": [
       "  0%|          | 0/2309 [00:00<?, ?it/s]"
      ]
     },
     "metadata": {},
     "output_type": "display_data"
    },
    {
     "data": {
      "application/vnd.jupyter.widget-view+json": {
<<<<<<< HEAD
       "model_id": "10b445d801554e2fb5ca24dd53bba6c7",
=======
       "model_id": "14cef4b3d4954b6aa2c5b1636835d234",
>>>>>>> 337a06191b573150b6b463a59071a3330c65761d
       "version_major": 2,
       "version_minor": 0
      },
      "text/plain": [
       "  0%|          | 0/2309 [00:00<?, ?it/s]"
      ]
     },
     "metadata": {},
     "output_type": "display_data"
    },
    {
     "data": {
      "application/vnd.jupyter.widget-view+json": {
<<<<<<< HEAD
       "model_id": "cc106094ee1d44c092dfeb182632606b",
=======
       "model_id": "f58a2d174f1343a7a1710acc82e8cb86",
>>>>>>> 337a06191b573150b6b463a59071a3330c65761d
       "version_major": 2,
       "version_minor": 0
      },
      "text/plain": [
       "  0%|          | 0/2309 [00:00<?, ?it/s]"
      ]
     },
     "metadata": {},
     "output_type": "display_data"
    },
    {
     "data": {
      "application/vnd.jupyter.widget-view+json": {
<<<<<<< HEAD
       "model_id": "7490a20761844c8390d2f6784bd0d3b0",
=======
       "model_id": "1e9d613df60a434db33a55209ec22303",
>>>>>>> 337a06191b573150b6b463a59071a3330c65761d
       "version_major": 2,
       "version_minor": 0
      },
      "text/plain": [
       "  0%|          | 0/2309 [00:00<?, ?it/s]"
      ]
     },
     "metadata": {},
     "output_type": "display_data"
    },
    {
     "data": {
      "application/vnd.jupyter.widget-view+json": {
<<<<<<< HEAD
       "model_id": "ddcb2e3784724393aace2e6deaa0f19c",
=======
       "model_id": "fe062c873bb9455786db195b5b049963",
>>>>>>> 337a06191b573150b6b463a59071a3330c65761d
       "version_major": 2,
       "version_minor": 0
      },
      "text/plain": [
       "  0%|          | 0/2309 [00:00<?, ?it/s]"
      ]
     },
     "metadata": {},
     "output_type": "display_data"
    },
    {
     "data": {
      "application/vnd.jupyter.widget-view+json": {
<<<<<<< HEAD
       "model_id": "4c66557c902d404d982db8cbec3cd269",
=======
       "model_id": "3d8c29d9f0d94bb2a4db0525cbf154e6",
>>>>>>> 337a06191b573150b6b463a59071a3330c65761d
       "version_major": 2,
       "version_minor": 0
      },
      "text/plain": [
       "  0%|          | 0/2309 [00:00<?, ?it/s]"
      ]
     },
     "metadata": {},
     "output_type": "display_data"
    },
    {
     "data": {
      "application/vnd.jupyter.widget-view+json": {
<<<<<<< HEAD
       "model_id": "62e0db36bdfe44c3af5f49416d3d53eb",
=======
       "model_id": "31a44767043441a99775fb51290d84df",
>>>>>>> 337a06191b573150b6b463a59071a3330c65761d
       "version_major": 2,
       "version_minor": 0
      },
      "text/plain": [
       "  0%|          | 0/2309 [00:00<?, ?it/s]"
      ]
     },
     "metadata": {},
     "output_type": "display_data"
    },
    {
     "data": {
      "application/vnd.jupyter.widget-view+json": {
<<<<<<< HEAD
       "model_id": "94a22e2782d9416d9dfdeaf6cdf7a29d",
=======
       "model_id": "c33bc141b0cd491586b8a6d65b3f9e60",
>>>>>>> 337a06191b573150b6b463a59071a3330c65761d
       "version_major": 2,
       "version_minor": 0
      },
      "text/plain": [
       "  0%|          | 0/2309 [00:00<?, ?it/s]"
      ]
     },
     "metadata": {},
     "output_type": "display_data"
    },
    {
     "data": {
      "application/vnd.jupyter.widget-view+json": {
<<<<<<< HEAD
       "model_id": "7fb3d970b0644999912878097d3c7238",
=======
       "model_id": "1a5ada96d0b1499cb0699e69b3cbc98e",
>>>>>>> 337a06191b573150b6b463a59071a3330c65761d
       "version_major": 2,
       "version_minor": 0
      },
      "text/plain": [
       "  0%|          | 0/2309 [00:00<?, ?it/s]"
      ]
     },
     "metadata": {},
     "output_type": "display_data"
    },
    {
     "data": {
      "application/vnd.jupyter.widget-view+json": {
<<<<<<< HEAD
       "model_id": "36a30a72fb304f8d97783a2872ab102f",
=======
       "model_id": "96890291b4b04154bb29f6ff99811c7c",
>>>>>>> 337a06191b573150b6b463a59071a3330c65761d
       "version_major": 2,
       "version_minor": 0
      },
      "text/plain": [
       "  0%|          | 0/2309 [00:00<?, ?it/s]"
      ]
     },
     "metadata": {},
     "output_type": "display_data"
    },
    {
     "data": {
      "application/vnd.jupyter.widget-view+json": {
<<<<<<< HEAD
       "model_id": "7de7d1494d7b442ca7f68f0f381d3aa8",
=======
       "model_id": "3cd47025a3394c8c9e84cb7a374d3fc9",
>>>>>>> 337a06191b573150b6b463a59071a3330c65761d
       "version_major": 2,
       "version_minor": 0
      },
      "text/plain": [
       "  0%|          | 0/2309 [00:00<?, ?it/s]"
      ]
     },
     "metadata": {},
     "output_type": "display_data"
    },
    {
     "data": {
      "application/vnd.jupyter.widget-view+json": {
<<<<<<< HEAD
       "model_id": "7ad847a1224a4f64855046c7b75604a8",
=======
       "model_id": "b0ada8da08384da89eeabf1ff7524056",
>>>>>>> 337a06191b573150b6b463a59071a3330c65761d
       "version_major": 2,
       "version_minor": 0
      },
      "text/plain": [
       "  0%|          | 0/2309 [00:00<?, ?it/s]"
      ]
     },
     "metadata": {},
     "output_type": "display_data"
    },
    {
     "data": {
      "application/vnd.jupyter.widget-view+json": {
<<<<<<< HEAD
       "model_id": "a3c73f1df7b54a46bb1e91999f5325ca",
=======
       "model_id": "a6bcd87e3a0c4a2eb962f177a2aef199",
>>>>>>> 337a06191b573150b6b463a59071a3330c65761d
       "version_major": 2,
       "version_minor": 0
      },
      "text/plain": [
       "  0%|          | 0/2309 [00:00<?, ?it/s]"
      ]
     },
     "metadata": {},
     "output_type": "display_data"
    },
    {
     "data": {
      "application/vnd.jupyter.widget-view+json": {
<<<<<<< HEAD
       "model_id": "66d91606624a4bf39203ea2533921107",
=======
       "model_id": "2e73dfa243914c8c99e1b77ba19faf72",
>>>>>>> 337a06191b573150b6b463a59071a3330c65761d
       "version_major": 2,
       "version_minor": 0
      },
      "text/plain": [
       "  0%|          | 0/2309 [00:00<?, ?it/s]"
      ]
     },
     "metadata": {},
     "output_type": "display_data"
    },
    {
     "data": {
      "application/vnd.jupyter.widget-view+json": {
<<<<<<< HEAD
       "model_id": "e22300a6adf34ec7aeea7f9f36f6925e",
=======
       "model_id": "be3125f8d1ca4bd990f5134be50547c8",
>>>>>>> 337a06191b573150b6b463a59071a3330c65761d
       "version_major": 2,
       "version_minor": 0
      },
      "text/plain": [
       "  0%|          | 0/2309 [00:00<?, ?it/s]"
      ]
     },
     "metadata": {},
     "output_type": "display_data"
    },
    {
     "data": {
      "application/vnd.jupyter.widget-view+json": {
<<<<<<< HEAD
       "model_id": "5d141185cf29427baf6f3f952bb8ab91",
=======
       "model_id": "44b2f0adcec34b20a5b81d19da653acf",
>>>>>>> 337a06191b573150b6b463a59071a3330c65761d
       "version_major": 2,
       "version_minor": 0
      },
      "text/plain": [
       "  0%|          | 0/2309 [00:00<?, ?it/s]"
      ]
     },
     "metadata": {},
     "output_type": "display_data"
    },
    {
     "data": {
      "application/vnd.jupyter.widget-view+json": {
<<<<<<< HEAD
       "model_id": "a78fd08c161e44378859edd1bdf602d0",
=======
       "model_id": "f663702ec2344938a6868bd192ee3a0c",
>>>>>>> 337a06191b573150b6b463a59071a3330c65761d
       "version_major": 2,
       "version_minor": 0
      },
      "text/plain": [
       "  0%|          | 0/2309 [00:00<?, ?it/s]"
      ]
     },
     "metadata": {},
     "output_type": "display_data"
    },
    {
     "data": {
      "application/vnd.jupyter.widget-view+json": {
<<<<<<< HEAD
       "model_id": "a89d31f9ad5d4ee6b4abfaab0d2ccd99",
=======
       "model_id": "4254094791c24fe08f31d165cb679cf8",
>>>>>>> 337a06191b573150b6b463a59071a3330c65761d
       "version_major": 2,
       "version_minor": 0
      },
      "text/plain": [
       "  0%|          | 0/2309 [00:00<?, ?it/s]"
      ]
     },
     "metadata": {},
     "output_type": "display_data"
    },
    {
     "data": {
      "application/vnd.jupyter.widget-view+json": {
<<<<<<< HEAD
       "model_id": "27f27f7a04af41908defc998c19bf558",
=======
       "model_id": "f3c5ac0109dd45baab4c57296839f186",
>>>>>>> 337a06191b573150b6b463a59071a3330c65761d
       "version_major": 2,
       "version_minor": 0
      },
      "text/plain": [
       "  0%|          | 0/2309 [00:00<?, ?it/s]"
      ]
     },
     "metadata": {},
     "output_type": "display_data"
    },
    {
     "data": {
      "application/vnd.jupyter.widget-view+json": {
<<<<<<< HEAD
       "model_id": "16f9de05bf54462495a5e4d60929a2bb",
=======
       "model_id": "82ffb89da9154597aec0b635bf1dd908",
>>>>>>> 337a06191b573150b6b463a59071a3330c65761d
       "version_major": 2,
       "version_minor": 0
      },
      "text/plain": [
       "  0%|          | 0/2309 [00:00<?, ?it/s]"
      ]
     },
     "metadata": {},
     "output_type": "display_data"
    },
    {
     "data": {
      "application/vnd.jupyter.widget-view+json": {
<<<<<<< HEAD
       "model_id": "6d26e37e5caf40e8bea4dcb2473b1ffc",
=======
       "model_id": "fc4f73dea5be45188b48bf5f3c516cbe",
>>>>>>> 337a06191b573150b6b463a59071a3330c65761d
       "version_major": 2,
       "version_minor": 0
      },
      "text/plain": [
       "  0%|          | 0/2309 [00:00<?, ?it/s]"
      ]
     },
     "metadata": {},
     "output_type": "display_data"
    },
    {
     "data": {
      "application/vnd.jupyter.widget-view+json": {
<<<<<<< HEAD
       "model_id": "321c7e18c22448be80440afb369d4527",
=======
       "model_id": "95c10715738c43af886b9f9c58239e40",
>>>>>>> 337a06191b573150b6b463a59071a3330c65761d
       "version_major": 2,
       "version_minor": 0
      },
      "text/plain": [
       "  0%|          | 0/2309 [00:00<?, ?it/s]"
      ]
     },
     "metadata": {},
     "output_type": "display_data"
    },
    {
     "data": {
      "application/vnd.jupyter.widget-view+json": {
<<<<<<< HEAD
       "model_id": "eab0911071f74b3f983e8a875278af29",
=======
       "model_id": "6125487a03a54ff5a8a507b33c907c6c",
>>>>>>> 337a06191b573150b6b463a59071a3330c65761d
       "version_major": 2,
       "version_minor": 0
      },
      "text/plain": [
       "  0%|          | 0/2309 [00:00<?, ?it/s]"
      ]
     },
     "metadata": {},
     "output_type": "display_data"
    },
    {
     "data": {
      "application/vnd.jupyter.widget-view+json": {
<<<<<<< HEAD
       "model_id": "241bb741c76d401d8919b9aa9f740c80",
=======
       "model_id": "66a1caa35edb4d11a1bca99367f2888f",
>>>>>>> 337a06191b573150b6b463a59071a3330c65761d
       "version_major": 2,
       "version_minor": 0
      },
      "text/plain": [
       "  0%|          | 0/2309 [00:00<?, ?it/s]"
      ]
     },
     "metadata": {},
     "output_type": "display_data"
    },
    {
     "data": {
      "application/vnd.jupyter.widget-view+json": {
<<<<<<< HEAD
       "model_id": "9a3a820759514930ba2b21b3694190fc",
=======
       "model_id": "f03b11fd11a845c3bbcc7d580ae65b05",
>>>>>>> 337a06191b573150b6b463a59071a3330c65761d
       "version_major": 2,
       "version_minor": 0
      },
      "text/plain": [
       "  0%|          | 0/2309 [00:00<?, ?it/s]"
      ]
     },
     "metadata": {},
     "output_type": "display_data"
    },
    {
     "data": {
      "application/vnd.jupyter.widget-view+json": {
<<<<<<< HEAD
       "model_id": "d9f4706c58534c08be93ee13e4ec806a",
=======
       "model_id": "2b830a93eee849f58d3b2acd39c4a553",
>>>>>>> 337a06191b573150b6b463a59071a3330c65761d
       "version_major": 2,
       "version_minor": 0
      },
      "text/plain": [
       "  0%|          | 0/2309 [00:00<?, ?it/s]"
      ]
     },
     "metadata": {},
     "output_type": "display_data"
    },
    {
     "data": {
      "application/vnd.jupyter.widget-view+json": {
<<<<<<< HEAD
       "model_id": "e89c8bcfc90c4d7f800d437859fa326a",
=======
       "model_id": "91db7da590b9457ba0584502fa111e8e",
>>>>>>> 337a06191b573150b6b463a59071a3330c65761d
       "version_major": 2,
       "version_minor": 0
      },
      "text/plain": [
       "  0%|          | 0/2309 [00:00<?, ?it/s]"
      ]
     },
     "metadata": {},
     "output_type": "display_data"
    },
    {
     "data": {
      "application/vnd.jupyter.widget-view+json": {
<<<<<<< HEAD
       "model_id": "9daef38f93aa48feb53544d8261ee6b1",
=======
       "model_id": "8ec2cc3fb4dd4bcd81c41644ee1737ac",
>>>>>>> 337a06191b573150b6b463a59071a3330c65761d
       "version_major": 2,
       "version_minor": 0
      },
      "text/plain": [
       "  0%|          | 0/2309 [00:00<?, ?it/s]"
      ]
     },
     "metadata": {},
     "output_type": "display_data"
    },
    {
     "data": {
      "application/vnd.jupyter.widget-view+json": {
<<<<<<< HEAD
       "model_id": "43070abd60ce4466ade99e17c1e655b5",
=======
       "model_id": "85f2e9c4cc7d4c049a038bc3fb1f66be",
>>>>>>> 337a06191b573150b6b463a59071a3330c65761d
       "version_major": 2,
       "version_minor": 0
      },
      "text/plain": [
       "  0%|          | 0/2309 [00:00<?, ?it/s]"
      ]
     },
     "metadata": {},
     "output_type": "display_data"
    },
    {
     "data": {
      "application/vnd.jupyter.widget-view+json": {
<<<<<<< HEAD
       "model_id": "4f813cd6d4934804bbe2e77b57387c9b",
=======
       "model_id": "1a9bf39845604091a4b361266e01a667",
>>>>>>> 337a06191b573150b6b463a59071a3330c65761d
       "version_major": 2,
       "version_minor": 0
      },
      "text/plain": [
       "  0%|          | 0/2309 [00:00<?, ?it/s]"
      ]
     },
     "metadata": {},
     "output_type": "display_data"
    },
    {
     "data": {
      "application/vnd.jupyter.widget-view+json": {
<<<<<<< HEAD
       "model_id": "062ad667ea07443288142974bc1d6f9d",
=======
       "model_id": "8e7eb211afa244589d57552d403dfe2e",
>>>>>>> 337a06191b573150b6b463a59071a3330c65761d
       "version_major": 2,
       "version_minor": 0
      },
      "text/plain": [
       "  0%|          | 0/2309 [00:00<?, ?it/s]"
      ]
     },
     "metadata": {},
     "output_type": "display_data"
    },
    {
     "data": {
      "application/vnd.jupyter.widget-view+json": {
<<<<<<< HEAD
       "model_id": "c9a7783653dd4fcb8d4f390303d63609",
=======
       "model_id": "3fff4bd7d35745b8899ae0f6d5562684",
>>>>>>> 337a06191b573150b6b463a59071a3330c65761d
       "version_major": 2,
       "version_minor": 0
      },
      "text/plain": [
       "  0%|          | 0/2309 [00:00<?, ?it/s]"
      ]
     },
     "metadata": {},
     "output_type": "display_data"
    }
   ],
   "source": [
    "df = pd.DataFrame()\n",
    "df['file'] = [fname[:-6] for fname in dirs]\n",
    "df['avg'] = [getAvg(fname) for fname in dirs]\n",
    "df['worst'] = [getWorst(fname) for fname in dirs]"
   ]
  },
  {
   "cell_type": "code",
<<<<<<< HEAD
   "execution_count": 10,
=======
   "execution_count": 4,
>>>>>>> 337a06191b573150b6b463a59071a3330c65761d
   "id": "b12ab1eb",
   "metadata": {},
   "outputs": [
    {
     "data": {
      "text/html": [
       "<div>\n",
       "<style scoped>\n",
       "    .dataframe tbody tr th:only-of-type {\n",
       "        vertical-align: middle;\n",
       "    }\n",
       "\n",
       "    .dataframe tbody tr th {\n",
       "        vertical-align: top;\n",
       "    }\n",
       "\n",
       "    .dataframe thead th {\n",
       "        text-align: right;\n",
       "    }\n",
       "</style>\n",
       "<table border=\"1\" class=\"dataframe\">\n",
       "  <thead>\n",
       "    <tr style=\"text-align: right;\">\n",
       "      <th></th>\n",
       "      <th>file</th>\n",
       "      <th>avg</th>\n",
       "      <th>worst</th>\n",
       "    </tr>\n",
       "  </thead>\n",
       "  <tbody>\n",
       "    <tr>\n",
       "      <th>6</th>\n",
       "      <td>mostParts,firstValid,maxSizeSplit,information</td>\n",
       "      <td>3.430489</td>\n",
       "      <td>(6, 1)</td>\n",
       "    </tr>\n",
       "    <tr>\n",
       "      <th>33</th>\n",
       "      <td>mostParts,maxSizeSplit,firstValid,information</td>\n",
       "      <td>3.430489</td>\n",
       "      <td>(6, 1)</td>\n",
       "    </tr>\n",
       "    <tr>\n",
       "      <th>60</th>\n",
       "      <td>mostParts,maxSizeSplit,information,firstValid</td>\n",
       "      <td>3.430922</td>\n",
       "      <td>(6, 1)</td>\n",
       "    </tr>\n",
       "    <tr>\n",
       "      <th>12</th>\n",
       "      <td>mostParts,firstValid,maxSizeSplit</td>\n",
       "      <td>3.430922</td>\n",
       "      <td>(6, 2)</td>\n",
       "    </tr>\n",
       "    <tr>\n",
       "      <th>13</th>\n",
       "      <td>mostParts,firstValid,information</td>\n",
       "      <td>3.430922</td>\n",
<<<<<<< HEAD
       "      <td>(6, 2)</td>\n",
=======
       "      <td>6</td>\n",
       "    </tr>\n",
       "    <tr>\n",
       "      <th>23</th>\n",
       "      <td>mostParts,firstValid,information,maxSizeSplit</td>\n",
       "      <td>3.430922</td>\n",
       "      <td>6</td>\n",
>>>>>>> 337a06191b573150b6b463a59071a3330c65761d
       "    </tr>\n",
       "    <tr>\n",
       "      <th>...</th>\n",
       "      <td>...</td>\n",
       "      <td>...</td>\n",
       "      <td>...</td>\n",
       "    </tr>\n",
       "    <tr>\n",
       "      <th>32</th>\n",
       "      <td>firstValid,maxSizeSplit,information</td>\n",
       "      <td>3.644435</td>\n",
       "      <td>(8, 3)</td>\n",
       "    </tr>\n",
       "    <tr>\n",
       "      <th>49</th>\n",
       "      <td>firstValid,maxSizeSplit,information,mostParts</td>\n",
       "      <td>3.644435</td>\n",
       "      <td>(8, 3)</td>\n",
       "    </tr>\n",
       "    <tr>\n",
       "      <th>54</th>\n",
       "      <td>maxSizeSplit</td>\n",
       "      <td>3.676916</td>\n",
       "      <td>(5, 99)</td>\n",
       "    </tr>\n",
       "    <tr>\n",
       "      <th>15</th>\n",
       "      <td>firstValid,maxSizeSplit</td>\n",
       "      <td>3.677350</td>\n",
       "      <td>(8, 3)</td>\n",
       "    </tr>\n",
       "    <tr>\n",
       "      <th>41</th>\n",
       "      <td>firstValid</td>\n",
       "      <td>4.346903</td>\n",
       "      <td>(9, 1)</td>\n",
       "    </tr>\n",
       "  </tbody>\n",
       "</table>\n",
       "<p>64 rows × 3 columns</p>\n",
       "</div>"
      ],
      "text/plain": [
<<<<<<< HEAD
       "                                             file       avg    worst\n",
       "50  mostParts,firstValid,maxSizeSplit,information  3.430489   (6, 1)\n",
       "58  mostParts,maxSizeSplit,firstValid,information  3.430489   (6, 1)\n",
       "60  mostParts,maxSizeSplit,information,firstValid  3.430922   (6, 1)\n",
       "48  mostParts,firstValid,information,maxSizeSplit  3.430922   (6, 2)\n",
       "49               mostParts,firstValid,information  3.430922   (6, 2)\n",
       "..                                            ...       ...      ...\n",
       "5   firstValid,maxSizeSplit,information,mostParts  3.644435   (8, 3)\n",
       "6             firstValid,maxSizeSplit,information  3.644435   (8, 3)\n",
       "47                                   maxSizeSplit  3.676916  (5, 99)\n",
       "9                         firstValid,maxSizeSplit  3.677350   (8, 3)\n",
       "15                                     firstValid  4.346903   (9, 1)\n",
=======
       "                                             file       avg  worst\n",
       "6   mostParts,firstValid,maxSizeSplit,information  3.430489      6\n",
       "33  mostParts,maxSizeSplit,firstValid,information  3.430489      6\n",
       "12              mostParts,firstValid,maxSizeSplit  3.430922      6\n",
       "13               mostParts,firstValid,information  3.430922      6\n",
       "23  mostParts,firstValid,information,maxSizeSplit  3.430922      6\n",
       "..                                            ...       ...    ...\n",
       "32            firstValid,maxSizeSplit,information  3.644435      8\n",
       "49  firstValid,maxSizeSplit,information,mostParts  3.644435      8\n",
       "54                                   maxSizeSplit  3.676916      5\n",
       "15                        firstValid,maxSizeSplit  3.677350      8\n",
       "41                                     firstValid  4.346903      9\n",
>>>>>>> 337a06191b573150b6b463a59071a3330c65761d
       "\n",
       "[64 rows x 3 columns]"
      ]
     },
<<<<<<< HEAD
     "execution_count": 10,
=======
     "execution_count": 4,
>>>>>>> 337a06191b573150b6b463a59071a3330c65761d
     "metadata": {},
     "output_type": "execute_result"
    }
   ],
   "source": [
    "df.sort_values(by=['avg','worst'], ascending=[True, True])"
   ]
  },
  {
   "cell_type": "code",
<<<<<<< HEAD
   "execution_count": 11,
=======
   "execution_count": 5,
>>>>>>> 337a06191b573150b6b463a59071a3330c65761d
   "id": "8a0e2439",
   "metadata": {},
   "outputs": [
    {
     "data": {
      "text/html": [
       "<div>\n",
       "<style scoped>\n",
       "    .dataframe tbody tr th:only-of-type {\n",
       "        vertical-align: middle;\n",
       "    }\n",
       "\n",
       "    .dataframe tbody tr th {\n",
       "        vertical-align: top;\n",
       "    }\n",
       "\n",
       "    .dataframe thead th {\n",
       "        text-align: right;\n",
       "    }\n",
       "</style>\n",
       "<table border=\"1\" class=\"dataframe\">\n",
       "  <thead>\n",
       "    <tr style=\"text-align: right;\">\n",
       "      <th></th>\n",
       "      <th>file</th>\n",
       "      <th>avg</th>\n",
       "      <th>worst</th>\n",
       "    </tr>\n",
       "  </thead>\n",
       "  <tbody>\n",
       "    <tr>\n",
<<<<<<< HEAD
       "      <th>43</th>\n",
       "      <td>maxSizeSplit,mostParts,firstValid</td>\n",
       "      <td>3.514075</td>\n",
       "      <td>(5, 60)</td>\n",
       "    </tr>\n",
       "    <tr>\n",
       "      <th>37</th>\n",
       "      <td>maxSizeSplit,information,firstValid,mostParts</td>\n",
=======
       "      <th>8</th>\n",
       "      <td>maxSizeSplit,mostParts,firstValid,information</td>\n",
>>>>>>> 337a06191b573150b6b463a59071a3330c65761d
       "      <td>3.513642</td>\n",
       "      <td>(5, 61)</td>\n",
       "    </tr>\n",
       "    <tr>\n",
       "      <th>21</th>\n",
       "      <td>maxSizeSplit,information,firstValid,mostParts</td>\n",
       "      <td>3.513642</td>\n",
       "      <td>(5, 61)</td>\n",
       "    </tr>\n",
       "    <tr>\n",
       "      <th>22</th>\n",
       "      <td>maxSizeSplit,information,firstValid</td>\n",
       "      <td>3.513642</td>\n",
       "      <td>(5, 61)</td>\n",
       "    </tr>\n",
       "    <tr>\n",
       "      <th>26</th>\n",
       "      <td>maxSizeSplit,mostParts,information,firstValid</td>\n",
       "      <td>3.513642</td>\n",
<<<<<<< HEAD
       "      <td>(5, 61)</td>\n",
=======
       "      <td>5</td>\n",
       "    </tr>\n",
       "    <tr>\n",
       "      <th>40</th>\n",
       "      <td>maxSizeSplit,information,mostParts,firstValid</td>\n",
       "      <td>3.513642</td>\n",
       "      <td>5</td>\n",
>>>>>>> 337a06191b573150b6b463a59071a3330c65761d
       "    </tr>\n",
       "    <tr>\n",
       "      <th>...</th>\n",
       "      <td>...</td>\n",
       "      <td>...</td>\n",
       "      <td>...</td>\n",
       "    </tr>\n",
       "    <tr>\n",
<<<<<<< HEAD
       "      <th>14</th>\n",
       "      <td>firstValid,mostParts</td>\n",
       "      <td>3.548722</td>\n",
       "      <td>(8, 3)</td>\n",
=======
       "      <th>50</th>\n",
       "      <td>firstValid,maxSizeSplit,mostParts,information</td>\n",
       "      <td>3.638805</td>\n",
       "      <td>8</td>\n",
>>>>>>> 337a06191b573150b6b463a59071a3330c65761d
       "    </tr>\n",
       "    <tr>\n",
       "      <th>32</th>\n",
       "      <td>firstValid,maxSizeSplit,information</td>\n",
       "      <td>3.644435</td>\n",
       "      <td>(8, 3)</td>\n",
       "    </tr>\n",
       "    <tr>\n",
       "      <th>49</th>\n",
       "      <td>firstValid,maxSizeSplit,information,mostParts</td>\n",
       "      <td>3.644435</td>\n",
       "      <td>(8, 3)</td>\n",
       "    </tr>\n",
       "    <tr>\n",
       "      <th>15</th>\n",
       "      <td>firstValid,maxSizeSplit</td>\n",
       "      <td>3.677350</td>\n",
       "      <td>(8, 3)</td>\n",
       "    </tr>\n",
       "    <tr>\n",
       "      <th>41</th>\n",
       "      <td>firstValid</td>\n",
       "      <td>4.346903</td>\n",
       "      <td>(9, 1)</td>\n",
       "    </tr>\n",
       "  </tbody>\n",
       "</table>\n",
       "<p>64 rows × 3 columns</p>\n",
       "</div>"
      ],
      "text/plain": [
<<<<<<< HEAD
       "                                             file       avg    worst\n",
       "43              maxSizeSplit,mostParts,firstValid  3.514075  (5, 60)\n",
       "37  maxSizeSplit,information,firstValid,mostParts  3.513642  (5, 61)\n",
       "38            maxSizeSplit,information,firstValid  3.513642  (5, 61)\n",
       "39  maxSizeSplit,information,mostParts,firstValid  3.513642  (5, 61)\n",
       "42  maxSizeSplit,mostParts,firstValid,information  3.513642  (5, 61)\n",
       "..                                            ...       ...      ...\n",
       "14                           firstValid,mostParts  3.548722   (8, 3)\n",
       "5   firstValid,maxSizeSplit,information,mostParts  3.644435   (8, 3)\n",
       "6             firstValid,maxSizeSplit,information  3.644435   (8, 3)\n",
       "9                         firstValid,maxSizeSplit  3.677350   (8, 3)\n",
       "15                                     firstValid  4.346903   (9, 1)\n",
=======
       "                                             file       avg  worst\n",
       "8   maxSizeSplit,mostParts,firstValid,information  3.513642      5\n",
       "21  maxSizeSplit,information,firstValid,mostParts  3.513642      5\n",
       "22            maxSizeSplit,information,firstValid  3.513642      5\n",
       "26  maxSizeSplit,mostParts,information,firstValid  3.513642      5\n",
       "40  maxSizeSplit,information,mostParts,firstValid  3.513642      5\n",
       "..                                            ...       ...    ...\n",
       "50  firstValid,maxSizeSplit,mostParts,information  3.638805      8\n",
       "32            firstValid,maxSizeSplit,information  3.644435      8\n",
       "49  firstValid,maxSizeSplit,information,mostParts  3.644435      8\n",
       "15                        firstValid,maxSizeSplit  3.677350      8\n",
       "41                                     firstValid  4.346903      9\n",
>>>>>>> 337a06191b573150b6b463a59071a3330c65761d
       "\n",
       "[64 rows x 3 columns]"
      ]
     },
<<<<<<< HEAD
     "execution_count": 11,
=======
     "execution_count": 5,
>>>>>>> 337a06191b573150b6b463a59071a3330c65761d
     "metadata": {},
     "output_type": "execute_result"
    }
   ],
   "source": [
    "df.sort_values(by=['worst','avg'], ascending=[True, True])"
   ]
  },
  {
   "cell_type": "code",
<<<<<<< HEAD
   "execution_count": null,
=======
   "execution_count": 6,
>>>>>>> 337a06191b573150b6b463a59071a3330c65761d
   "id": "ef354ac7",
   "metadata": {},
   "outputs": [
    {
     "name": "stdout",
     "output_type": "stream",
     "text": [
<<<<<<< HEAD
      "Guessing:  trace\n"
     ]
=======
      "Guessing:  trace\n",
      "Result from guess: 22200\n",
      "🟩🟩🟩⬛⬛\n",
      "Guessing:  alist\n",
      "Result from guess: 10102\n",
      "🟨⬛🟨⬛🟩\n",
      "Guessing:  trait\n",
      "Result from guess: 22222\n",
      "🟩🟩🟩🟩🟩\n"
     ]
    },
    {
     "data": {
      "text/plain": [
       "3"
      ]
     },
     "execution_count": 6,
     "metadata": {},
     "output_type": "execute_result"
>>>>>>> 337a06191b573150b6b463a59071a3330c65761d
    }
   ],
   "source": [
    "ValuationStrategyCached(strategyFile = f'combinedVals/mostParts,firstValid,maxSizeSplit,information1.json',debug=True).play()"
   ]
  },
  {
   "cell_type": "code",
   "execution_count": null,
   "id": "54f1a025",
   "metadata": {},
   "outputs": [],
   "source": []
  }
 ],
 "metadata": {
  "kernelspec": {
   "display_name": "Python 3",
   "language": "python",
   "name": "python3"
  },
  "language_info": {
   "codemirror_mode": {
    "name": "ipython",
    "version": 3
   },
   "file_extension": ".py",
   "mimetype": "text/x-python",
   "name": "python",
   "nbconvert_exporter": "python",
   "pygments_lexer": "ipython3",
   "version": "3.7.0"
  }
 },
 "nbformat": 4,
 "nbformat_minor": 5
}
