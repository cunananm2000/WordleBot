{
 "cells": [
  {
   "cell_type": "code",
   "execution_count": null,
   "id": "aef73f70",
   "metadata": {},
   "outputs": [],
   "source": [
    "import numpy as np\n",
    "import pandas as pd\n",
    "import os\n",
    "from ValuationStrategyCached import ValuationStrategyCached\n",
    "\n",
    "path = \"combinedTrees2/\"\n",
    "dirs = os.listdir(path)"
   ]
  },
  {
   "cell_type": "code",
   "execution_count": null,
   "id": "aabf4e8a",
   "metadata": {},
   "outputs": [],
   "source": [
    "def getAvg(fname):\n",
    "    g = ValuationStrategyCached(strategyFile = f'{path}{fname}')\n",
    "    scores = g.runAllPossibleAnswers()\n",
    "    return np.mean(scores)\n",
    "\n",
    "def getWorst(fname):\n",
    "    g = ValuationStrategyCached(strategyFile = f'{path}{fname}')\n",
    "    scores = g.runAllPossibleAnswers()\n",
    "    m = np.max(scores)\n",
    "    return m, scores.count(m)"
   ]
  },
  {
   "cell_type": "code",
   "execution_count": null,
   "id": "f60968f9",
   "metadata": {},
   "outputs": [],
   "source": [
    "df = pd.DataFrame()\n",
    "df['file'] = [fname[:-6] for fname in dirs]\n",
    "df['avg'] = [getAvg(fname) for fname in dirs]\n",
    "df['worst'] = [getWorst(fname) for fname in dirs]"
   ]
  },
  {
   "cell_type": "code",
   "execution_count": null,
   "id": "b12ab1eb",
   "metadata": {},
   "outputs": [],
   "source": [
    "df['name_len'] = [len(fname[:-6].split(',')) for fname in dirs]\n",
    "df.sort_values(by=['avg','worst','name_len','file'])"
   ]
  },
  {
   "cell_type": "code",
   "execution_count": null,
   "id": "dccb5c25",
   "metadata": {},
   "outputs": [],
   "source": [
    "print(df[df['file'].apply(lambda x: ',' not in x)].to_csv())"
   ]
  },
  {
   "cell_type": "code",
   "execution_count": null,
   "id": "8a0e2439",
   "metadata": {},
   "outputs": [],
   "source": [
    "df.sort_values(by=['worst','avg'], ascending=[True, True])"
   ]
  },
  {
   "cell_type": "code",
   "execution_count": null,
   "id": "ef354ac7",
   "metadata": {},
   "outputs": [],
   "source": [
    "ValuationStrategyCached(strategyFile = f'combinedTrees2/mostParts,firstValid,maxSizeSplit,information1.json',debug=True).play('agora')"
   ]
  },
  {
   "cell_type": "code",
   "execution_count": null,
   "id": "54f1a025",
   "metadata": {},
   "outputs": [],
   "source": []
  }
 ],
 "metadata": {
  "kernelspec": {
   "display_name": "Python 3",
   "language": "python",
   "name": "python3"
  },
  "language_info": {
   "codemirror_mode": {
    "name": "ipython",
    "version": 3
   },
   "file_extension": ".py",
   "mimetype": "text/x-python",
   "name": "python",
   "nbconvert_exporter": "python",
   "pygments_lexer": "ipython3",
   "version": "3.10.4 (tags/v3.10.4:9d38120, Mar 23 2022, 23:13:41) [MSC v.1929 64 bit (AMD64)]"
  },
  "vscode": {
   "interpreter": {
    "hash": "f87fde2320060d2900fddac7da54e7374722de106bfdb09feff620760be7bc48"
   }
  }
 },
 "nbformat": 4,
 "nbformat_minor": 5
}
