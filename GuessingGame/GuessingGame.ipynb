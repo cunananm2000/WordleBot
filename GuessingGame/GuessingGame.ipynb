{
 "cells": [
  {
   "cell_type": "code",
   "execution_count": 1,
   "id": "0fc72674",
   "metadata": {},
   "outputs": [],
   "source": [
    "from GuessingGame import GuessingGame\n",
    "from wordLists import guesses, answers\n",
    "from utils import check"
   ]
  },
  {
   "cell_type": "code",
   "execution_count": 2,
   "id": "bd054434",
   "metadata": {},
   "outputs": [],
   "source": [
    "game = GuessingGame(\n",
    "    guesses = guesses + answers,\n",
    "    secrets = answers,\n",
    "    check = check\n",
    ")"
   ]
  },
  {
   "cell_type": "code",
   "execution_count": 3,
   "id": "c4d31a6f",
   "metadata": {},
   "outputs": [
    {
     "name": "stdout",
     "output_type": "stream",
     "text": [
      "Guess 1: aback\n",
      "    Response 1: 00000\n",
      "Guess 2: defer\n",
      "    Response 2: 00022\n",
      "Guess 3: giver\n",
      "    Response 3: 00022\n",
      "Guess 4: homer\n",
      "    Response 4: 11022\n",
      "Guess 5: other\n",
      "    Response 5: 22222\n"
     ]
    },
    {
     "data": {
      "text/plain": [
       "5"
      ]
     },
     "execution_count": 3,
     "metadata": {},
     "output_type": "execute_result"
    }
   ],
   "source": [
    "game.play('other')"
   ]
  },
  {
   "cell_type": "code",
   "execution_count": null,
   "id": "20101d98",
   "metadata": {},
   "outputs": [],
   "source": []
  }
 ],
 "metadata": {
  "kernelspec": {
   "display_name": "Python 3",
   "language": "python",
   "name": "python3"
  },
  "language_info": {
   "codemirror_mode": {
    "name": "ipython",
    "version": 3
   },
   "file_extension": ".py",
   "mimetype": "text/x-python",
   "name": "python",
   "nbconvert_exporter": "python",
   "pygments_lexer": "ipython3",
   "version": "3.7.0"
  }
 },
 "nbformat": 4,
 "nbformat_minor": 5
}
